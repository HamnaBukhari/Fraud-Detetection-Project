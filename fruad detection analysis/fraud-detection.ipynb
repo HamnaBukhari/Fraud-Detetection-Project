{
 "cells": [
  {
   "cell_type": "code",
   "execution_count": 1,
   "metadata": {
    "execution": {
     "iopub.execute_input": "2023-09-05T17:48:58.967050Z",
     "iopub.status.busy": "2023-09-05T17:48:58.966615Z",
     "iopub.status.idle": "2023-09-05T17:49:00.085813Z",
     "shell.execute_reply": "2023-09-05T17:49:00.084487Z",
     "shell.execute_reply.started": "2023-09-05T17:48:58.967014Z"
    }
   },
   "outputs": [],
   "source": [
    "import numpy as np\n",
    "import pandas as pd\n",
    "import matplotlib.pyplot as plt\n",
    "%matplotlib inline\n",
    "import warnings as wr\n",
    "wr.filterwarnings(action=\"ignore\")\n",
    "import seaborn as sns"
   ]
  },
  {
   "cell_type": "markdown",
   "metadata": {},
   "source": []
  },
  {
   "cell_type": "markdown",
   "metadata": {},
   "source": [
    "<div style=\"background-color: #3498db; border-radius: 10px; text-align: center; padding: 10px;\">\n",
    "    <h1>Data Loading</h1>\n",
    "</div>\n"
   ]
  },
  {
   "cell_type": "markdown",
   "metadata": {},
   "source": [
    "### We are merging multiple datasets "
   ]
  },
  {
   "cell_type": "code",
   "execution_count": 2,
   "metadata": {
    "execution": {
     "iopub.execute_input": "2023-09-05T17:49:00.088854Z",
     "iopub.status.busy": "2023-09-05T17:49:00.088277Z",
     "iopub.status.idle": "2023-09-05T17:49:00.165969Z",
     "shell.execute_reply": "2023-09-05T17:49:00.164381Z",
     "shell.execute_reply.started": "2023-09-05T17:49:00.088817Z"
    }
   },
   "outputs": [],
   "source": [
    "account = pd.read_csv(\"Data/account_activity.csv\")\n",
    "customer = pd.read_csv(\"Data/customer_data.csv\")\n",
    "fraud = pd.read_csv(\"Data/fraud_indicators.csv\")\n",
    "suspision = pd.read_csv(\"Data/suspicious_activity.csv\")\n",
    "merchant = pd.read_csv(\"Data/merchant_data.csv\")\n",
    "tran_cat = pd.read_csv(\"Data/transaction_category_labels.csv\")\n",
    "amount = pd.read_csv(\"Data/amount_data.csv\")\n",
    "anamoly = pd.read_csv(\"Data/anomaly_scores.csv\")\n",
    "tran_data = pd.read_csv(\"Data/transaction_metadata.csv\")\n",
    "tran_rec = pd.read_csv(\"Data/transaction_records.csv\")"
   ]
  },
  {
   "cell_type": "code",
   "execution_count": 3,
   "metadata": {
    "execution": {
     "iopub.execute_input": "2023-09-05T17:49:00.170597Z",
     "iopub.status.busy": "2023-09-05T17:49:00.168480Z",
     "iopub.status.idle": "2023-09-05T17:49:00.176160Z",
     "shell.execute_reply": "2023-09-05T17:49:00.175045Z",
     "shell.execute_reply.started": "2023-09-05T17:49:00.170556Z"
    }
   },
   "outputs": [],
   "source": [
    "data = [account,customer,fraud,suspision,merchant,tran_cat,amount,anamoly,tran_data,tran_rec]"
   ]
  },
  {
   "cell_type": "code",
   "execution_count": 4,
   "metadata": {
    "execution": {
     "iopub.execute_input": "2023-09-05T17:49:00.180167Z",
     "iopub.status.busy": "2023-09-05T17:49:00.178639Z",
     "iopub.status.idle": "2023-09-05T17:49:00.211382Z",
     "shell.execute_reply": "2023-09-05T17:49:00.209904Z",
     "shell.execute_reply.started": "2023-09-05T17:49:00.180119Z"
    }
   },
   "outputs": [
    {
     "name": "stdout",
     "output_type": "stream",
     "text": [
      "   CustomerID  AccountBalance   LastLogin\n",
      "0        1001     9507.272060  2022-01-01\n",
      "1        1002     7408.704536  2022-01-02\n",
      "2        1003     1715.321989  2022-01-03\n",
      "3        1004     3101.509134  2022-01-04\n",
      "4        1005     5405.766914  2022-01-05\n",
      "   CustomerID           Name  Age       Address\n",
      "0        1001  Customer 1001   54  Address 1001\n",
      "1        1002  Customer 1002   35  Address 1002\n",
      "2        1003  Customer 1003   40  Address 1003\n",
      "3        1004  Customer 1004   30  Address 1004\n",
      "4        1005  Customer 1005   46  Address 1005\n",
      "   TransactionID  FraudIndicator\n",
      "0              1               0\n",
      "1              2               0\n",
      "2              3               0\n",
      "3              4               0\n",
      "4              5               0\n",
      "   CustomerID  SuspiciousFlag\n",
      "0        1001               0\n",
      "1        1002               0\n",
      "2        1003               0\n",
      "3        1004               0\n",
      "4        1005               0\n",
      "   MerchantID   MerchantName       Location\n",
      "0        2001  Merchant 2001  Location 2001\n",
      "1        2002  Merchant 2002  Location 2002\n",
      "2        2003  Merchant 2003  Location 2003\n",
      "3        2004  Merchant 2004  Location 2004\n",
      "4        2005  Merchant 2005  Location 2005\n",
      "   TransactionID Category\n",
      "0              1    Other\n",
      "1              2   Online\n",
      "2              3   Travel\n",
      "3              4   Travel\n",
      "4              5    Other\n",
      "   TransactionID  TransactionAmount\n",
      "0              1          79.413607\n",
      "1              2          12.053087\n",
      "2              3          33.310357\n",
      "3              4          46.121117\n",
      "4              5          54.051618\n",
      "   TransactionID  AnomalyScore\n",
      "0              1      0.686699\n",
      "1              2      0.081749\n",
      "2              3      0.023857\n",
      "3              4      0.876994\n",
      "4              5      0.034059\n",
      "   TransactionID            Timestamp  MerchantID\n",
      "0              1  2022-01-01 00:00:00        2701\n",
      "1              2  2022-01-01 01:00:00        2070\n",
      "2              3  2022-01-01 02:00:00        2238\n",
      "3              4  2022-01-01 03:00:00        2879\n",
      "4              5  2022-01-01 04:00:00        2966\n",
      "   TransactionID     Amount  CustomerID\n",
      "0              1  55.530334        1952\n",
      "1              2  12.881180        1027\n",
      "2              3  50.176322        1955\n",
      "3              4  41.634001        1796\n",
      "4              5  78.122853        1946\n"
     ]
    }
   ],
   "source": [
    "for df in data:\n",
    "    print(df.head())"
   ]
  },
  {
   "cell_type": "code",
   "execution_count": 5,
   "metadata": {
    "execution": {
     "iopub.execute_input": "2023-09-05T17:49:00.214533Z",
     "iopub.status.busy": "2023-09-05T17:49:00.213215Z",
     "iopub.status.idle": "2023-09-05T17:49:00.247117Z",
     "shell.execute_reply": "2023-09-05T17:49:00.245762Z",
     "shell.execute_reply.started": "2023-09-05T17:49:00.214488Z"
    }
   },
   "outputs": [
    {
     "data": {
      "text/html": [
       "<div>\n",
       "<style scoped>\n",
       "    .dataframe tbody tr th:only-of-type {\n",
       "        vertical-align: middle;\n",
       "    }\n",
       "\n",
       "    .dataframe tbody tr th {\n",
       "        vertical-align: top;\n",
       "    }\n",
       "\n",
       "    .dataframe thead th {\n",
       "        text-align: right;\n",
       "    }\n",
       "</style>\n",
       "<table border=\"1\" class=\"dataframe\">\n",
       "  <thead>\n",
       "    <tr style=\"text-align: right;\">\n",
       "      <th></th>\n",
       "      <th>CustomerID</th>\n",
       "      <th>Name</th>\n",
       "      <th>Age</th>\n",
       "      <th>Address</th>\n",
       "      <th>AccountBalance</th>\n",
       "      <th>LastLogin</th>\n",
       "      <th>SuspiciousFlag</th>\n",
       "    </tr>\n",
       "  </thead>\n",
       "  <tbody>\n",
       "    <tr>\n",
       "      <th>0</th>\n",
       "      <td>1001</td>\n",
       "      <td>Customer 1001</td>\n",
       "      <td>54</td>\n",
       "      <td>Address 1001</td>\n",
       "      <td>9507.272060</td>\n",
       "      <td>2022-01-01</td>\n",
       "      <td>0</td>\n",
       "    </tr>\n",
       "    <tr>\n",
       "      <th>1</th>\n",
       "      <td>1002</td>\n",
       "      <td>Customer 1002</td>\n",
       "      <td>35</td>\n",
       "      <td>Address 1002</td>\n",
       "      <td>7408.704536</td>\n",
       "      <td>2022-01-02</td>\n",
       "      <td>0</td>\n",
       "    </tr>\n",
       "    <tr>\n",
       "      <th>2</th>\n",
       "      <td>1003</td>\n",
       "      <td>Customer 1003</td>\n",
       "      <td>40</td>\n",
       "      <td>Address 1003</td>\n",
       "      <td>1715.321989</td>\n",
       "      <td>2022-01-03</td>\n",
       "      <td>0</td>\n",
       "    </tr>\n",
       "    <tr>\n",
       "      <th>3</th>\n",
       "      <td>1004</td>\n",
       "      <td>Customer 1004</td>\n",
       "      <td>30</td>\n",
       "      <td>Address 1004</td>\n",
       "      <td>3101.509134</td>\n",
       "      <td>2022-01-04</td>\n",
       "      <td>0</td>\n",
       "    </tr>\n",
       "    <tr>\n",
       "      <th>4</th>\n",
       "      <td>1005</td>\n",
       "      <td>Customer 1005</td>\n",
       "      <td>46</td>\n",
       "      <td>Address 1005</td>\n",
       "      <td>5405.766914</td>\n",
       "      <td>2022-01-05</td>\n",
       "      <td>0</td>\n",
       "    </tr>\n",
       "    <tr>\n",
       "      <th>...</th>\n",
       "      <td>...</td>\n",
       "      <td>...</td>\n",
       "      <td>...</td>\n",
       "      <td>...</td>\n",
       "      <td>...</td>\n",
       "      <td>...</td>\n",
       "      <td>...</td>\n",
       "    </tr>\n",
       "    <tr>\n",
       "      <th>995</th>\n",
       "      <td>1996</td>\n",
       "      <td>Customer 1996</td>\n",
       "      <td>33</td>\n",
       "      <td>Address 1996</td>\n",
       "      <td>8523.485163</td>\n",
       "      <td>2024-09-22</td>\n",
       "      <td>0</td>\n",
       "    </tr>\n",
       "    <tr>\n",
       "      <th>996</th>\n",
       "      <td>1997</td>\n",
       "      <td>Customer 1997</td>\n",
       "      <td>58</td>\n",
       "      <td>Address 1997</td>\n",
       "      <td>9255.451757</td>\n",
       "      <td>2024-09-23</td>\n",
       "      <td>0</td>\n",
       "    </tr>\n",
       "    <tr>\n",
       "      <th>997</th>\n",
       "      <td>1998</td>\n",
       "      <td>Customer 1998</td>\n",
       "      <td>25</td>\n",
       "      <td>Address 1998</td>\n",
       "      <td>9148.652759</td>\n",
       "      <td>2024-09-24</td>\n",
       "      <td>0</td>\n",
       "    </tr>\n",
       "    <tr>\n",
       "      <th>998</th>\n",
       "      <td>1999</td>\n",
       "      <td>Customer 1999</td>\n",
       "      <td>57</td>\n",
       "      <td>Address 1999</td>\n",
       "      <td>7376.854107</td>\n",
       "      <td>2024-09-25</td>\n",
       "      <td>0</td>\n",
       "    </tr>\n",
       "    <tr>\n",
       "      <th>999</th>\n",
       "      <td>2000</td>\n",
       "      <td>Customer 2000</td>\n",
       "      <td>42</td>\n",
       "      <td>Address 2000</td>\n",
       "      <td>4853.024380</td>\n",
       "      <td>2024-09-26</td>\n",
       "      <td>0</td>\n",
       "    </tr>\n",
       "  </tbody>\n",
       "</table>\n",
       "<p>1000 rows × 7 columns</p>\n",
       "</div>"
      ],
      "text/plain": [
       "     CustomerID           Name  Age       Address  AccountBalance   LastLogin  \\\n",
       "0          1001  Customer 1001   54  Address 1001     9507.272060  2022-01-01   \n",
       "1          1002  Customer 1002   35  Address 1002     7408.704536  2022-01-02   \n",
       "2          1003  Customer 1003   40  Address 1003     1715.321989  2022-01-03   \n",
       "3          1004  Customer 1004   30  Address 1004     3101.509134  2022-01-04   \n",
       "4          1005  Customer 1005   46  Address 1005     5405.766914  2022-01-05   \n",
       "..          ...            ...  ...           ...             ...         ...   \n",
       "995        1996  Customer 1996   33  Address 1996     8523.485163  2024-09-22   \n",
       "996        1997  Customer 1997   58  Address 1997     9255.451757  2024-09-23   \n",
       "997        1998  Customer 1998   25  Address 1998     9148.652759  2024-09-24   \n",
       "998        1999  Customer 1999   57  Address 1999     7376.854107  2024-09-25   \n",
       "999        2000  Customer 2000   42  Address 2000     4853.024380  2024-09-26   \n",
       "\n",
       "     SuspiciousFlag  \n",
       "0                 0  \n",
       "1                 0  \n",
       "2                 0  \n",
       "3                 0  \n",
       "4                 0  \n",
       "..              ...  \n",
       "995               0  \n",
       "996               0  \n",
       "997               0  \n",
       "998               0  \n",
       "999               0  \n",
       "\n",
       "[1000 rows x 7 columns]"
      ]
     },
     "execution_count": 5,
     "metadata": {},
     "output_type": "execute_result"
    }
   ],
   "source": [
    "costumer_data = pd.merge(customer, account, on='CustomerID')\n",
    "costumer_data = pd.merge(costumer_data, suspision, on='CustomerID')\n",
    "costumer_data"
   ]
  },
  {
   "cell_type": "code",
   "execution_count": 6,
   "metadata": {
    "execution": {
     "iopub.execute_input": "2023-09-05T17:49:00.249954Z",
     "iopub.status.busy": "2023-09-05T17:49:00.248808Z",
     "iopub.status.idle": "2023-09-05T17:49:00.272876Z",
     "shell.execute_reply": "2023-09-05T17:49:00.271223Z",
     "shell.execute_reply.started": "2023-09-05T17:49:00.249904Z"
    }
   },
   "outputs": [],
   "source": [
    "transaction_data1 = pd.merge(fraud, tran_cat, on=\"TransactionID\")\n",
    "transaction_data2 = pd.merge(amount, anamoly, on=\"TransactionID\")\n",
    "transaction_data3 = pd.merge(tran_data, tran_rec, on=\"TransactionID\")\n",
    "transaction_data = pd.merge(transaction_data1, transaction_data2,on=\"TransactionID\")\n",
    "transaction_data = pd.merge(transaction_data, transaction_data3,on=\"TransactionID\")"
   ]
  },
  {
   "cell_type": "code",
   "execution_count": 7,
   "metadata": {
    "execution": {
     "iopub.execute_input": "2023-09-05T17:49:00.274904Z",
     "iopub.status.busy": "2023-09-05T17:49:00.274394Z",
     "iopub.status.idle": "2023-09-05T17:49:00.297268Z",
     "shell.execute_reply": "2023-09-05T17:49:00.295482Z",
     "shell.execute_reply.started": "2023-09-05T17:49:00.274873Z"
    }
   },
   "outputs": [
    {
     "data": {
      "text/html": [
       "<div>\n",
       "<style scoped>\n",
       "    .dataframe tbody tr th:only-of-type {\n",
       "        vertical-align: middle;\n",
       "    }\n",
       "\n",
       "    .dataframe tbody tr th {\n",
       "        vertical-align: top;\n",
       "    }\n",
       "\n",
       "    .dataframe thead th {\n",
       "        text-align: right;\n",
       "    }\n",
       "</style>\n",
       "<table border=\"1\" class=\"dataframe\">\n",
       "  <thead>\n",
       "    <tr style=\"text-align: right;\">\n",
       "      <th></th>\n",
       "      <th>TransactionID</th>\n",
       "      <th>FraudIndicator</th>\n",
       "      <th>Category</th>\n",
       "      <th>TransactionAmount</th>\n",
       "      <th>AnomalyScore</th>\n",
       "      <th>Timestamp</th>\n",
       "      <th>MerchantID</th>\n",
       "      <th>Amount</th>\n",
       "      <th>CustomerID</th>\n",
       "    </tr>\n",
       "  </thead>\n",
       "  <tbody>\n",
       "    <tr>\n",
       "      <th>0</th>\n",
       "      <td>1</td>\n",
       "      <td>0</td>\n",
       "      <td>Other</td>\n",
       "      <td>79.413607</td>\n",
       "      <td>0.686699</td>\n",
       "      <td>2022-01-01 00:00:00</td>\n",
       "      <td>2701</td>\n",
       "      <td>55.530334</td>\n",
       "      <td>1952</td>\n",
       "    </tr>\n",
       "    <tr>\n",
       "      <th>1</th>\n",
       "      <td>2</td>\n",
       "      <td>0</td>\n",
       "      <td>Online</td>\n",
       "      <td>12.053087</td>\n",
       "      <td>0.081749</td>\n",
       "      <td>2022-01-01 01:00:00</td>\n",
       "      <td>2070</td>\n",
       "      <td>12.881180</td>\n",
       "      <td>1027</td>\n",
       "    </tr>\n",
       "    <tr>\n",
       "      <th>2</th>\n",
       "      <td>3</td>\n",
       "      <td>0</td>\n",
       "      <td>Travel</td>\n",
       "      <td>33.310357</td>\n",
       "      <td>0.023857</td>\n",
       "      <td>2022-01-01 02:00:00</td>\n",
       "      <td>2238</td>\n",
       "      <td>50.176322</td>\n",
       "      <td>1955</td>\n",
       "    </tr>\n",
       "    <tr>\n",
       "      <th>3</th>\n",
       "      <td>4</td>\n",
       "      <td>0</td>\n",
       "      <td>Travel</td>\n",
       "      <td>46.121117</td>\n",
       "      <td>0.876994</td>\n",
       "      <td>2022-01-01 03:00:00</td>\n",
       "      <td>2879</td>\n",
       "      <td>41.634001</td>\n",
       "      <td>1796</td>\n",
       "    </tr>\n",
       "    <tr>\n",
       "      <th>4</th>\n",
       "      <td>5</td>\n",
       "      <td>0</td>\n",
       "      <td>Other</td>\n",
       "      <td>54.051618</td>\n",
       "      <td>0.034059</td>\n",
       "      <td>2022-01-01 04:00:00</td>\n",
       "      <td>2966</td>\n",
       "      <td>78.122853</td>\n",
       "      <td>1946</td>\n",
       "    </tr>\n",
       "    <tr>\n",
       "      <th>...</th>\n",
       "      <td>...</td>\n",
       "      <td>...</td>\n",
       "      <td>...</td>\n",
       "      <td>...</td>\n",
       "      <td>...</td>\n",
       "      <td>...</td>\n",
       "      <td>...</td>\n",
       "      <td>...</td>\n",
       "      <td>...</td>\n",
       "    </tr>\n",
       "    <tr>\n",
       "      <th>995</th>\n",
       "      <td>996</td>\n",
       "      <td>0</td>\n",
       "      <td>Food</td>\n",
       "      <td>89.457059</td>\n",
       "      <td>0.266778</td>\n",
       "      <td>2022-02-11 11:00:00</td>\n",
       "      <td>2150</td>\n",
       "      <td>19.876750</td>\n",
       "      <td>1411</td>\n",
       "    </tr>\n",
       "    <tr>\n",
       "      <th>996</th>\n",
       "      <td>997</td>\n",
       "      <td>0</td>\n",
       "      <td>Retail</td>\n",
       "      <td>47.958030</td>\n",
       "      <td>0.512483</td>\n",
       "      <td>2022-02-11 12:00:00</td>\n",
       "      <td>2888</td>\n",
       "      <td>96.299792</td>\n",
       "      <td>1566</td>\n",
       "    </tr>\n",
       "    <tr>\n",
       "      <th>997</th>\n",
       "      <td>998</td>\n",
       "      <td>0</td>\n",
       "      <td>Food</td>\n",
       "      <td>64.210046</td>\n",
       "      <td>0.367740</td>\n",
       "      <td>2022-02-11 13:00:00</td>\n",
       "      <td>2037</td>\n",
       "      <td>75.164459</td>\n",
       "      <td>1654</td>\n",
       "    </tr>\n",
       "    <tr>\n",
       "      <th>998</th>\n",
       "      <td>999</td>\n",
       "      <td>0</td>\n",
       "      <td>Travel</td>\n",
       "      <td>64.684167</td>\n",
       "      <td>0.960364</td>\n",
       "      <td>2022-02-11 14:00:00</td>\n",
       "      <td>2629</td>\n",
       "      <td>93.633040</td>\n",
       "      <td>1928</td>\n",
       "    </tr>\n",
       "    <tr>\n",
       "      <th>999</th>\n",
       "      <td>1000</td>\n",
       "      <td>0</td>\n",
       "      <td>Other</td>\n",
       "      <td>97.440127</td>\n",
       "      <td>0.311224</td>\n",
       "      <td>2022-02-11 15:00:00</td>\n",
       "      <td>2235</td>\n",
       "      <td>89.915625</td>\n",
       "      <td>1503</td>\n",
       "    </tr>\n",
       "  </tbody>\n",
       "</table>\n",
       "<p>1000 rows × 9 columns</p>\n",
       "</div>"
      ],
      "text/plain": [
       "     TransactionID  FraudIndicator Category  TransactionAmount  AnomalyScore  \\\n",
       "0                1               0    Other          79.413607      0.686699   \n",
       "1                2               0   Online          12.053087      0.081749   \n",
       "2                3               0   Travel          33.310357      0.023857   \n",
       "3                4               0   Travel          46.121117      0.876994   \n",
       "4                5               0    Other          54.051618      0.034059   \n",
       "..             ...             ...      ...                ...           ...   \n",
       "995            996               0     Food          89.457059      0.266778   \n",
       "996            997               0   Retail          47.958030      0.512483   \n",
       "997            998               0     Food          64.210046      0.367740   \n",
       "998            999               0   Travel          64.684167      0.960364   \n",
       "999           1000               0    Other          97.440127      0.311224   \n",
       "\n",
       "               Timestamp  MerchantID     Amount  CustomerID  \n",
       "0    2022-01-01 00:00:00        2701  55.530334        1952  \n",
       "1    2022-01-01 01:00:00        2070  12.881180        1027  \n",
       "2    2022-01-01 02:00:00        2238  50.176322        1955  \n",
       "3    2022-01-01 03:00:00        2879  41.634001        1796  \n",
       "4    2022-01-01 04:00:00        2966  78.122853        1946  \n",
       "..                   ...         ...        ...         ...  \n",
       "995  2022-02-11 11:00:00        2150  19.876750        1411  \n",
       "996  2022-02-11 12:00:00        2888  96.299792        1566  \n",
       "997  2022-02-11 13:00:00        2037  75.164459        1654  \n",
       "998  2022-02-11 14:00:00        2629  93.633040        1928  \n",
       "999  2022-02-11 15:00:00        2235  89.915625        1503  \n",
       "\n",
       "[1000 rows x 9 columns]"
      ]
     },
     "execution_count": 7,
     "metadata": {},
     "output_type": "execute_result"
    }
   ],
   "source": [
    "transaction_data\n"
   ]
  },
  {
   "cell_type": "code",
   "execution_count": 132,
   "metadata": {
    "execution": {
     "iopub.execute_input": "2023-09-05T17:49:00.299132Z",
     "iopub.status.busy": "2023-09-05T17:49:00.298786Z",
     "iopub.status.idle": "2023-09-05T17:49:00.338031Z",
     "shell.execute_reply": "2023-09-05T17:49:00.336717Z",
     "shell.execute_reply.started": "2023-09-05T17:49:00.299103Z"
    }
   },
   "outputs": [
    {
     "data": {
      "text/html": [
       "<div>\n",
       "<style scoped>\n",
       "    .dataframe tbody tr th:only-of-type {\n",
       "        vertical-align: middle;\n",
       "    }\n",
       "\n",
       "    .dataframe tbody tr th {\n",
       "        vertical-align: top;\n",
       "    }\n",
       "\n",
       "    .dataframe thead th {\n",
       "        text-align: right;\n",
       "    }\n",
       "</style>\n",
       "<table border=\"1\" class=\"dataframe\">\n",
       "  <thead>\n",
       "    <tr style=\"text-align: right;\">\n",
       "      <th></th>\n",
       "      <th>TransactionID</th>\n",
       "      <th>FraudIndicator</th>\n",
       "      <th>Category</th>\n",
       "      <th>TransactionAmount</th>\n",
       "      <th>AnomalyScore</th>\n",
       "      <th>Timestamp</th>\n",
       "      <th>MerchantID</th>\n",
       "      <th>Amount</th>\n",
       "      <th>CustomerID</th>\n",
       "      <th>Name</th>\n",
       "      <th>Age</th>\n",
       "      <th>Address</th>\n",
       "      <th>AccountBalance</th>\n",
       "      <th>LastLogin</th>\n",
       "      <th>SuspiciousFlag</th>\n",
       "    </tr>\n",
       "  </thead>\n",
       "  <tbody>\n",
       "    <tr>\n",
       "      <th>0</th>\n",
       "      <td>1</td>\n",
       "      <td>0</td>\n",
       "      <td>Other</td>\n",
       "      <td>79.413607</td>\n",
       "      <td>0.686699</td>\n",
       "      <td>2022-01-01 00:00:00</td>\n",
       "      <td>2701</td>\n",
       "      <td>55.530334</td>\n",
       "      <td>1952</td>\n",
       "      <td>Customer 1952</td>\n",
       "      <td>50</td>\n",
       "      <td>Address 1952</td>\n",
       "      <td>2869.689912</td>\n",
       "      <td>2024-08-09</td>\n",
       "      <td>0</td>\n",
       "    </tr>\n",
       "    <tr>\n",
       "      <th>1</th>\n",
       "      <td>895</td>\n",
       "      <td>0</td>\n",
       "      <td>Food</td>\n",
       "      <td>90.422026</td>\n",
       "      <td>0.040817</td>\n",
       "      <td>2022-02-07 06:00:00</td>\n",
       "      <td>2149</td>\n",
       "      <td>53.683898</td>\n",
       "      <td>1952</td>\n",
       "      <td>Customer 1952</td>\n",
       "      <td>50</td>\n",
       "      <td>Address 1952</td>\n",
       "      <td>2869.689912</td>\n",
       "      <td>2024-08-09</td>\n",
       "      <td>0</td>\n",
       "    </tr>\n",
       "    <tr>\n",
       "      <th>2</th>\n",
       "      <td>2</td>\n",
       "      <td>0</td>\n",
       "      <td>Online</td>\n",
       "      <td>12.053087</td>\n",
       "      <td>0.081749</td>\n",
       "      <td>2022-01-01 01:00:00</td>\n",
       "      <td>2070</td>\n",
       "      <td>12.881180</td>\n",
       "      <td>1027</td>\n",
       "      <td>Customer 1027</td>\n",
       "      <td>46</td>\n",
       "      <td>Address 1027</td>\n",
       "      <td>9527.947107</td>\n",
       "      <td>2022-01-27</td>\n",
       "      <td>0</td>\n",
       "    </tr>\n",
       "    <tr>\n",
       "      <th>3</th>\n",
       "      <td>3</td>\n",
       "      <td>0</td>\n",
       "      <td>Travel</td>\n",
       "      <td>33.310357</td>\n",
       "      <td>0.023857</td>\n",
       "      <td>2022-01-01 02:00:00</td>\n",
       "      <td>2238</td>\n",
       "      <td>50.176322</td>\n",
       "      <td>1955</td>\n",
       "      <td>Customer 1955</td>\n",
       "      <td>34</td>\n",
       "      <td>Address 1955</td>\n",
       "      <td>9288.355525</td>\n",
       "      <td>2024-08-12</td>\n",
       "      <td>0</td>\n",
       "    </tr>\n",
       "    <tr>\n",
       "      <th>4</th>\n",
       "      <td>544</td>\n",
       "      <td>0</td>\n",
       "      <td>Retail</td>\n",
       "      <td>20.295348</td>\n",
       "      <td>0.476812</td>\n",
       "      <td>2022-01-23 15:00:00</td>\n",
       "      <td>2643</td>\n",
       "      <td>52.991184</td>\n",
       "      <td>1955</td>\n",
       "      <td>Customer 1955</td>\n",
       "      <td>34</td>\n",
       "      <td>Address 1955</td>\n",
       "      <td>9288.355525</td>\n",
       "      <td>2024-08-12</td>\n",
       "      <td>0</td>\n",
       "    </tr>\n",
       "    <tr>\n",
       "      <th>...</th>\n",
       "      <td>...</td>\n",
       "      <td>...</td>\n",
       "      <td>...</td>\n",
       "      <td>...</td>\n",
       "      <td>...</td>\n",
       "      <td>...</td>\n",
       "      <td>...</td>\n",
       "      <td>...</td>\n",
       "      <td>...</td>\n",
       "      <td>...</td>\n",
       "      <td>...</td>\n",
       "      <td>...</td>\n",
       "      <td>...</td>\n",
       "      <td>...</td>\n",
       "      <td>...</td>\n",
       "    </tr>\n",
       "    <tr>\n",
       "      <th>995</th>\n",
       "      <td>986</td>\n",
       "      <td>0</td>\n",
       "      <td>Other</td>\n",
       "      <td>89.972362</td>\n",
       "      <td>0.285603</td>\n",
       "      <td>2022-02-11 01:00:00</td>\n",
       "      <td>2036</td>\n",
       "      <td>29.328815</td>\n",
       "      <td>1706</td>\n",
       "      <td>Customer 1706</td>\n",
       "      <td>45</td>\n",
       "      <td>Address 1706</td>\n",
       "      <td>1678.514968</td>\n",
       "      <td>2023-12-07</td>\n",
       "      <td>0</td>\n",
       "    </tr>\n",
       "    <tr>\n",
       "      <th>996</th>\n",
       "      <td>989</td>\n",
       "      <td>0</td>\n",
       "      <td>Food</td>\n",
       "      <td>17.848481</td>\n",
       "      <td>0.029543</td>\n",
       "      <td>2022-02-11 04:00:00</td>\n",
       "      <td>2284</td>\n",
       "      <td>20.443811</td>\n",
       "      <td>1312</td>\n",
       "      <td>Customer 1312</td>\n",
       "      <td>26</td>\n",
       "      <td>Address 1312</td>\n",
       "      <td>6018.443647</td>\n",
       "      <td>2022-11-08</td>\n",
       "      <td>0</td>\n",
       "    </tr>\n",
       "    <tr>\n",
       "      <th>997</th>\n",
       "      <td>996</td>\n",
       "      <td>0</td>\n",
       "      <td>Food</td>\n",
       "      <td>89.457059</td>\n",
       "      <td>0.266778</td>\n",
       "      <td>2022-02-11 11:00:00</td>\n",
       "      <td>2150</td>\n",
       "      <td>19.876750</td>\n",
       "      <td>1411</td>\n",
       "      <td>Customer 1411</td>\n",
       "      <td>19</td>\n",
       "      <td>Address 1411</td>\n",
       "      <td>1290.323059</td>\n",
       "      <td>2023-02-15</td>\n",
       "      <td>0</td>\n",
       "    </tr>\n",
       "    <tr>\n",
       "      <th>998</th>\n",
       "      <td>997</td>\n",
       "      <td>0</td>\n",
       "      <td>Retail</td>\n",
       "      <td>47.958030</td>\n",
       "      <td>0.512483</td>\n",
       "      <td>2022-02-11 12:00:00</td>\n",
       "      <td>2888</td>\n",
       "      <td>96.299792</td>\n",
       "      <td>1566</td>\n",
       "      <td>Customer 1566</td>\n",
       "      <td>39</td>\n",
       "      <td>Address 1566</td>\n",
       "      <td>7067.831609</td>\n",
       "      <td>2023-07-20</td>\n",
       "      <td>0</td>\n",
       "    </tr>\n",
       "    <tr>\n",
       "      <th>999</th>\n",
       "      <td>998</td>\n",
       "      <td>0</td>\n",
       "      <td>Food</td>\n",
       "      <td>64.210046</td>\n",
       "      <td>0.367740</td>\n",
       "      <td>2022-02-11 13:00:00</td>\n",
       "      <td>2037</td>\n",
       "      <td>75.164459</td>\n",
       "      <td>1654</td>\n",
       "      <td>Customer 1654</td>\n",
       "      <td>51</td>\n",
       "      <td>Address 1654</td>\n",
       "      <td>9088.738359</td>\n",
       "      <td>2023-10-16</td>\n",
       "      <td>0</td>\n",
       "    </tr>\n",
       "  </tbody>\n",
       "</table>\n",
       "<p>1000 rows × 15 columns</p>\n",
       "</div>"
      ],
      "text/plain": [
       "     TransactionID  FraudIndicator Category  TransactionAmount  AnomalyScore  \\\n",
       "0                1               0    Other          79.413607      0.686699   \n",
       "1              895               0     Food          90.422026      0.040817   \n",
       "2                2               0   Online          12.053087      0.081749   \n",
       "3                3               0   Travel          33.310357      0.023857   \n",
       "4              544               0   Retail          20.295348      0.476812   \n",
       "..             ...             ...      ...                ...           ...   \n",
       "995            986               0    Other          89.972362      0.285603   \n",
       "996            989               0     Food          17.848481      0.029543   \n",
       "997            996               0     Food          89.457059      0.266778   \n",
       "998            997               0   Retail          47.958030      0.512483   \n",
       "999            998               0     Food          64.210046      0.367740   \n",
       "\n",
       "               Timestamp  MerchantID     Amount  CustomerID           Name  \\\n",
       "0    2022-01-01 00:00:00        2701  55.530334        1952  Customer 1952   \n",
       "1    2022-02-07 06:00:00        2149  53.683898        1952  Customer 1952   \n",
       "2    2022-01-01 01:00:00        2070  12.881180        1027  Customer 1027   \n",
       "3    2022-01-01 02:00:00        2238  50.176322        1955  Customer 1955   \n",
       "4    2022-01-23 15:00:00        2643  52.991184        1955  Customer 1955   \n",
       "..                   ...         ...        ...         ...            ...   \n",
       "995  2022-02-11 01:00:00        2036  29.328815        1706  Customer 1706   \n",
       "996  2022-02-11 04:00:00        2284  20.443811        1312  Customer 1312   \n",
       "997  2022-02-11 11:00:00        2150  19.876750        1411  Customer 1411   \n",
       "998  2022-02-11 12:00:00        2888  96.299792        1566  Customer 1566   \n",
       "999  2022-02-11 13:00:00        2037  75.164459        1654  Customer 1654   \n",
       "\n",
       "     Age       Address  AccountBalance   LastLogin  SuspiciousFlag  \n",
       "0     50  Address 1952     2869.689912  2024-08-09               0  \n",
       "1     50  Address 1952     2869.689912  2024-08-09               0  \n",
       "2     46  Address 1027     9527.947107  2022-01-27               0  \n",
       "3     34  Address 1955     9288.355525  2024-08-12               0  \n",
       "4     34  Address 1955     9288.355525  2024-08-12               0  \n",
       "..   ...           ...             ...         ...             ...  \n",
       "995   45  Address 1706     1678.514968  2023-12-07               0  \n",
       "996   26  Address 1312     6018.443647  2022-11-08               0  \n",
       "997   19  Address 1411     1290.323059  2023-02-15               0  \n",
       "998   39  Address 1566     7067.831609  2023-07-20               0  \n",
       "999   51  Address 1654     9088.738359  2023-10-16               0  \n",
       "\n",
       "[1000 rows x 15 columns]"
      ]
     },
     "execution_count": 132,
     "metadata": {},
     "output_type": "execute_result"
    }
   ],
   "source": [
    "data = pd.merge(transaction_data, costumer_data,on=\"CustomerID\")\n",
    "data"
   ]
  },
  {
   "cell_type": "markdown",
   "metadata": {},
   "source": [
    "<div style=\"background-color: #bde0fe; border-radius: 10px; text-align: center; padding: 20px;\">\n",
    "    <h1 style=\"color: black;\">Data Exploration</h1>\n",
    "</div>\n"
   ]
  },
  {
   "cell_type": "code",
   "execution_count": 9,
   "metadata": {
    "execution": {
     "iopub.execute_input": "2023-09-05T17:49:00.340431Z",
     "iopub.status.busy": "2023-09-05T17:49:00.340028Z",
     "iopub.status.idle": "2023-09-05T17:49:00.362202Z",
     "shell.execute_reply": "2023-09-05T17:49:00.360417Z",
     "shell.execute_reply.started": "2023-09-05T17:49:00.340390Z"
    }
   },
   "outputs": [
    {
     "name": "stdout",
     "output_type": "stream",
     "text": [
      "<class 'pandas.core.frame.DataFrame'>\n",
      "Int64Index: 1000 entries, 0 to 999\n",
      "Data columns (total 15 columns):\n",
      " #   Column             Non-Null Count  Dtype  \n",
      "---  ------             --------------  -----  \n",
      " 0   TransactionID      1000 non-null   int64  \n",
      " 1   FraudIndicator     1000 non-null   int64  \n",
      " 2   Category           1000 non-null   object \n",
      " 3   TransactionAmount  1000 non-null   float64\n",
      " 4   AnomalyScore       1000 non-null   float64\n",
      " 5   Timestamp          1000 non-null   object \n",
      " 6   MerchantID         1000 non-null   int64  \n",
      " 7   Amount             1000 non-null   float64\n",
      " 8   CustomerID         1000 non-null   int64  \n",
      " 9   Name               1000 non-null   object \n",
      " 10  Age                1000 non-null   int64  \n",
      " 11  Address            1000 non-null   object \n",
      " 12  AccountBalance     1000 non-null   float64\n",
      " 13  LastLogin          1000 non-null   object \n",
      " 14  SuspiciousFlag     1000 non-null   int64  \n",
      "dtypes: float64(4), int64(6), object(5)\n",
      "memory usage: 125.0+ KB\n"
     ]
    }
   ],
   "source": [
    "data.info()"
   ]
  },
  {
   "cell_type": "code",
   "execution_count": 10,
   "metadata": {
    "execution": {
     "iopub.execute_input": "2023-09-05T17:49:00.368044Z",
     "iopub.status.busy": "2023-09-05T17:49:00.367570Z",
     "iopub.status.idle": "2023-09-05T17:49:00.377272Z",
     "shell.execute_reply": "2023-09-05T17:49:00.375973Z",
     "shell.execute_reply.started": "2023-09-05T17:49:00.368006Z"
    }
   },
   "outputs": [
    {
     "data": {
      "text/plain": [
       "(1000, 15)"
      ]
     },
     "execution_count": 10,
     "metadata": {},
     "output_type": "execute_result"
    }
   ],
   "source": [
    "data.shape"
   ]
  },
  {
   "cell_type": "code",
   "execution_count": 11,
   "metadata": {
    "execution": {
     "iopub.execute_input": "2023-09-05T17:49:00.379886Z",
     "iopub.status.busy": "2023-09-05T17:49:00.379432Z",
     "iopub.status.idle": "2023-09-05T17:49:00.538703Z",
     "shell.execute_reply": "2023-09-05T17:49:00.537438Z",
     "shell.execute_reply.started": "2023-09-05T17:49:00.379849Z"
    }
   },
   "outputs": [
    {
     "data": {
      "text/html": [
       "<div>\n",
       "<style scoped>\n",
       "    .dataframe tbody tr th:only-of-type {\n",
       "        vertical-align: middle;\n",
       "    }\n",
       "\n",
       "    .dataframe tbody tr th {\n",
       "        vertical-align: top;\n",
       "    }\n",
       "\n",
       "    .dataframe thead th {\n",
       "        text-align: right;\n",
       "    }\n",
       "</style>\n",
       "<table border=\"1\" class=\"dataframe\">\n",
       "  <thead>\n",
       "    <tr style=\"text-align: right;\">\n",
       "      <th></th>\n",
       "      <th>TransactionID</th>\n",
       "      <th>FraudIndicator</th>\n",
       "      <th>TransactionAmount</th>\n",
       "      <th>AnomalyScore</th>\n",
       "      <th>MerchantID</th>\n",
       "      <th>Amount</th>\n",
       "      <th>CustomerID</th>\n",
       "      <th>Age</th>\n",
       "      <th>AccountBalance</th>\n",
       "      <th>SuspiciousFlag</th>\n",
       "    </tr>\n",
       "  </thead>\n",
       "  <tbody>\n",
       "    <tr>\n",
       "      <th>count</th>\n",
       "      <td>1000.000000</td>\n",
       "      <td>1000.000000</td>\n",
       "      <td>1000.000000</td>\n",
       "      <td>1000.000000</td>\n",
       "      <td>1000.000000</td>\n",
       "      <td>1000.000000</td>\n",
       "      <td>1000.000000</td>\n",
       "      <td>1000.000000</td>\n",
       "      <td>1000.000000</td>\n",
       "      <td>1000.000000</td>\n",
       "    </tr>\n",
       "    <tr>\n",
       "      <th>mean</th>\n",
       "      <td>500.500000</td>\n",
       "      <td>0.045000</td>\n",
       "      <td>55.853826</td>\n",
       "      <td>0.492282</td>\n",
       "      <td>2504.701000</td>\n",
       "      <td>55.394871</td>\n",
       "      <td>1496.626000</td>\n",
       "      <td>39.848000</td>\n",
       "      <td>5715.455931</td>\n",
       "      <td>0.025000</td>\n",
       "    </tr>\n",
       "    <tr>\n",
       "      <th>std</th>\n",
       "      <td>288.819436</td>\n",
       "      <td>0.207408</td>\n",
       "      <td>26.093606</td>\n",
       "      <td>0.288423</td>\n",
       "      <td>288.414883</td>\n",
       "      <td>25.070809</td>\n",
       "      <td>289.229047</td>\n",
       "      <td>13.074932</td>\n",
       "      <td>2540.517262</td>\n",
       "      <td>0.156203</td>\n",
       "    </tr>\n",
       "    <tr>\n",
       "      <th>min</th>\n",
       "      <td>1.000000</td>\n",
       "      <td>0.000000</td>\n",
       "      <td>10.057864</td>\n",
       "      <td>0.000234</td>\n",
       "      <td>2001.000000</td>\n",
       "      <td>10.006933</td>\n",
       "      <td>1001.000000</td>\n",
       "      <td>18.000000</td>\n",
       "      <td>1056.301181</td>\n",
       "      <td>0.000000</td>\n",
       "    </tr>\n",
       "    <tr>\n",
       "      <th>25%</th>\n",
       "      <td>250.750000</td>\n",
       "      <td>0.000000</td>\n",
       "      <td>33.875129</td>\n",
       "      <td>0.251802</td>\n",
       "      <td>2254.500000</td>\n",
       "      <td>34.502315</td>\n",
       "      <td>1239.000000</td>\n",
       "      <td>29.000000</td>\n",
       "      <td>3489.554711</td>\n",
       "      <td>0.000000</td>\n",
       "    </tr>\n",
       "    <tr>\n",
       "      <th>50%</th>\n",
       "      <td>500.500000</td>\n",
       "      <td>0.000000</td>\n",
       "      <td>55.958313</td>\n",
       "      <td>0.490242</td>\n",
       "      <td>2500.500000</td>\n",
       "      <td>57.844325</td>\n",
       "      <td>1501.000000</td>\n",
       "      <td>39.000000</td>\n",
       "      <td>5753.007775</td>\n",
       "      <td>0.000000</td>\n",
       "    </tr>\n",
       "    <tr>\n",
       "      <th>75%</th>\n",
       "      <td>750.250000</td>\n",
       "      <td>0.000000</td>\n",
       "      <td>77.589391</td>\n",
       "      <td>0.741888</td>\n",
       "      <td>2761.250000</td>\n",
       "      <td>75.858576</td>\n",
       "      <td>1739.250000</td>\n",
       "      <td>51.000000</td>\n",
       "      <td>7925.710167</td>\n",
       "      <td>0.000000</td>\n",
       "    </tr>\n",
       "    <tr>\n",
       "      <th>max</th>\n",
       "      <td>1000.000000</td>\n",
       "      <td>1.000000</td>\n",
       "      <td>99.784323</td>\n",
       "      <td>0.999047</td>\n",
       "      <td>3000.000000</td>\n",
       "      <td>99.887410</td>\n",
       "      <td>2000.000000</td>\n",
       "      <td>64.000000</td>\n",
       "      <td>9999.776239</td>\n",
       "      <td>1.000000</td>\n",
       "    </tr>\n",
       "  </tbody>\n",
       "</table>\n",
       "</div>"
      ],
      "text/plain": [
       "       TransactionID  FraudIndicator  TransactionAmount  AnomalyScore  \\\n",
       "count    1000.000000     1000.000000        1000.000000   1000.000000   \n",
       "mean      500.500000        0.045000          55.853826      0.492282   \n",
       "std       288.819436        0.207408          26.093606      0.288423   \n",
       "min         1.000000        0.000000          10.057864      0.000234   \n",
       "25%       250.750000        0.000000          33.875129      0.251802   \n",
       "50%       500.500000        0.000000          55.958313      0.490242   \n",
       "75%       750.250000        0.000000          77.589391      0.741888   \n",
       "max      1000.000000        1.000000          99.784323      0.999047   \n",
       "\n",
       "        MerchantID       Amount   CustomerID          Age  AccountBalance  \\\n",
       "count  1000.000000  1000.000000  1000.000000  1000.000000     1000.000000   \n",
       "mean   2504.701000    55.394871  1496.626000    39.848000     5715.455931   \n",
       "std     288.414883    25.070809   289.229047    13.074932     2540.517262   \n",
       "min    2001.000000    10.006933  1001.000000    18.000000     1056.301181   \n",
       "25%    2254.500000    34.502315  1239.000000    29.000000     3489.554711   \n",
       "50%    2500.500000    57.844325  1501.000000    39.000000     5753.007775   \n",
       "75%    2761.250000    75.858576  1739.250000    51.000000     7925.710167   \n",
       "max    3000.000000    99.887410  2000.000000    64.000000     9999.776239   \n",
       "\n",
       "       SuspiciousFlag  \n",
       "count     1000.000000  \n",
       "mean         0.025000  \n",
       "std          0.156203  \n",
       "min          0.000000  \n",
       "25%          0.000000  \n",
       "50%          0.000000  \n",
       "75%          0.000000  \n",
       "max          1.000000  "
      ]
     },
     "execution_count": 11,
     "metadata": {},
     "output_type": "execute_result"
    }
   ],
   "source": [
    "data.describe()"
   ]
  },
  {
   "cell_type": "code",
   "execution_count": null,
   "metadata": {},
   "outputs": [],
   "source": []
  },
  {
   "cell_type": "code",
   "execution_count": 12,
   "metadata": {
    "execution": {
     "iopub.execute_input": "2023-09-05T17:49:00.541396Z",
     "iopub.status.busy": "2023-09-05T17:49:00.540380Z",
     "iopub.status.idle": "2023-09-05T17:49:00.551037Z",
     "shell.execute_reply": "2023-09-05T17:49:00.549626Z",
     "shell.execute_reply.started": "2023-09-05T17:49:00.541331Z"
    }
   },
   "outputs": [
    {
     "data": {
      "text/plain": [
       "Index(['TransactionID', 'FraudIndicator', 'Category', 'TransactionAmount',\n",
       "       'AnomalyScore', 'Timestamp', 'MerchantID', 'Amount', 'CustomerID',\n",
       "       'Name', 'Age', 'Address', 'AccountBalance', 'LastLogin',\n",
       "       'SuspiciousFlag'],\n",
       "      dtype='object')"
      ]
     },
     "execution_count": 12,
     "metadata": {},
     "output_type": "execute_result"
    }
   ],
   "source": [
    "\n",
    "data.columns"
   ]
  },
  {
   "cell_type": "code",
   "execution_count": 13,
   "metadata": {
    "execution": {
     "iopub.execute_input": "2023-09-05T17:49:00.553940Z",
     "iopub.status.busy": "2023-09-05T17:49:00.552764Z",
     "iopub.status.idle": "2023-09-05T17:49:00.568427Z",
     "shell.execute_reply": "2023-09-05T17:49:00.566693Z",
     "shell.execute_reply.started": "2023-09-05T17:49:00.553870Z"
    }
   },
   "outputs": [
    {
     "name": "stdout",
     "output_type": "stream",
     "text": [
      "['TransactionID', 'FraudIndicator', 'TransactionAmount', 'AnomalyScore', 'MerchantID', 'Amount', 'CustomerID', 'Age', 'AccountBalance', 'SuspiciousFlag']\n",
      "['Category', 'Timestamp', 'Name', 'Address', 'LastLogin']\n"
     ]
    }
   ],
   "source": [
    "numerical_features = data.select_dtypes(include=['number']).columns.tolist()\n",
    "categorical_features = data.select_dtypes(include=['object']).columns.tolist()\n",
    "print(numerical_features)\n",
    "print(categorical_features)"
   ]
  },
  {
   "cell_type": "code",
   "execution_count": null,
   "metadata": {},
   "outputs": [],
   "source": []
  },
  {
   "cell_type": "markdown",
   "metadata": {},
   "source": [
    "<div style=\"background-color: #cdb4db; border-radius: 10px; text-align: center; padding: 20px;\">\n",
    "    <h1 style=\"color: black;\">Data Visualization</h1>\n",
    "</div>\n"
   ]
  },
  {
   "cell_type": "code",
   "execution_count": 14,
   "metadata": {
    "execution": {
     "iopub.execute_input": "2023-09-05T17:49:00.571214Z",
     "iopub.status.busy": "2023-09-05T17:49:00.570432Z",
     "iopub.status.idle": "2023-09-05T17:49:02.438014Z",
     "shell.execute_reply": "2023-09-05T17:49:02.436742Z",
     "shell.execute_reply.started": "2023-09-05T17:49:00.571178Z"
    }
   },
   "outputs": [
    {
     "data": {
      "image/png": "[encoded data removed]",
      "text/plain": [
       "<Figure size 1000x500 with 1 Axes>"
      ]
     },
     "metadata": {},
     "output_type": "display_data"
    },
    {
     "data": {
      "image/png": "[encoded data removed]",
      "text/plain": [
       "<Figure size 1000x500 with 1 Axes>"
      ]
     },
     "metadata": {},
     "output_type": "display_data"
    },
    {
     "data": {
      "image/png": "[encoded data removed]",
      "text/plain": [
       "<Figure size 1000x500 with 1 Axes>"
      ]
     },
     "metadata": {},
     "output_type": "display_data"
    },
    {
     "data": {
      "image/png": "[encoded data removed]",
      "text/plain": [
       "<Figure size 1000x500 with 1 Axes>"
      ]
     },
     "metadata": {},
     "output_type": "display_data"
    },
    {
     "data": {
      "image/png": "[encoded data removed]",
      "text/plain": [
       "<Figure size 1000x500 with 1 Axes>"
      ]
     },
     "metadata": {},
     "output_type": "display_data"
    }
   ],
   "source": [
    "for column in data.columns:\n",
    "    if data[column].dtype == 'object':  # Check if the column has a categorical data type\n",
    "        top_10_values = data[column].value_counts().head(10)  # Get the first 10 unique values and their counts\n",
    "        plt.figure(figsize=(10, 5))  # Adjust the figure size if needed\n",
    "        sns.countplot(x=column, data=data, order=top_10_values.index)\n",
    "        plt.title(f'Count Plot for {column}')\n",
    "        plt.xticks(rotation=90)  # Rotate x-axis labels if they are long\n",
    "        plt.show()\n"
   ]
  },
  {
   "cell_type": "code",
   "execution_count": 15,
   "metadata": {
    "execution": {
     "iopub.execute_input": "2023-09-05T17:49:02.439895Z",
     "iopub.status.busy": "2023-09-05T17:49:02.439511Z",
     "iopub.status.idle": "2023-09-05T17:49:04.256623Z",
     "shell.execute_reply": "2023-09-05T17:49:04.255627Z",
     "shell.execute_reply.started": "2023-09-05T17:49:02.439862Z"
    }
   },
   "outputs": [
    {
     "data": {
      "image/png": "[encoded data removed]",
      "text/plain": [
       "<Figure size 1200x3000 with 10 Axes>"
      ]
     },
     "metadata": {},
     "output_type": "display_data"
    }
   ],
   "source": [
    "import pandas as pd\n",
    "import seaborn as sns\n",
    "import matplotlib.pyplot as plt\n",
    "\n",
    "# Assuming 'data' is your DataFrame containing numerical columns\n",
    "\n",
    "# Get the number of numerical columns\n",
    "num_cols = len(data.select_dtypes(include=['number']).columns)\n",
    "\n",
    "# Calculate the number of rows and columns for subplots\n",
    "num_rows = (num_cols // 2) + (num_cols % 2)\n",
    "\n",
    "# Create subplots\n",
    "fig, axes = plt.subplots(num_rows, 2, figsize=(12, 6*num_rows))\n",
    "fig.suptitle(\"Box Plots for Numerical Columns\")\n",
    "\n",
    "# Loop through the numerical columns and create box plots\n",
    "for i, column in enumerate(data.select_dtypes(include=['number']).columns):\n",
    "    row = i // 2\n",
    "    col = i % 2\n",
    "    sns.boxplot(x=data[column], ax=axes[row, col])\n",
    "    axes[row, col].set_title(column)\n",
    "\n",
    "# Remove any empty subplots\n",
    "if num_cols % 2 != 0:\n",
    "    fig.delaxes(axes[num_rows-1, 1])\n",
    "\n",
    "plt.tight_layout()\n",
    "plt.subplots_adjust(top=0.95)  # Adjust the position of the overall title\n",
    "plt.show()\n"
   ]
  },
  {
   "cell_type": "code",
   "execution_count": 16,
   "metadata": {
    "execution": {
     "iopub.execute_input": "2023-09-05T17:49:04.259195Z",
     "iopub.status.busy": "2023-09-05T17:49:04.257953Z",
     "iopub.status.idle": "2023-09-05T17:49:04.522529Z",
     "shell.execute_reply": "2023-09-05T17:49:04.521438Z",
     "shell.execute_reply.started": "2023-09-05T17:49:04.259153Z"
    }
   },
   "outputs": [
    {
     "data": {
      "image/png": "[encoded data removed]",
      "text/plain": [
       "<Figure size 800x600 with 1 Axes>"
      ]
     },
     "metadata": {},
     "output_type": "display_data"
    }
   ],
   "source": [
    "# We should use countplot for SuspiciousFlag feature\n",
    "\n",
    "plt.figure(figsize=(8, 6))  # Adjust the figure size if needed\n",
    "sns.countplot(x='SuspiciousFlag', data=data, palette='Set2')  # You can change the palette as desired\n",
    "plt.title('Count Plot for Suspicious Flag')\n",
    "plt.xlabel('Suspicious Flag')\n",
    "plt.ylabel('Count')\n",
    "plt.xticks(rotation=45)  # Rotate x-axis labels if they are long\n",
    "\n",
    "plt.show()"
   ]
  },
  {
   "cell_type": "markdown",
   "metadata": {},
   "source": [
    "### Okay we can see the dataset's target feature is heavily imbalanced sowe can use further techiniqes to equalize the feature's values "
   ]
  },
  {
   "cell_type": "code",
   "execution_count": 17,
   "metadata": {
    "execution": {
     "iopub.execute_input": "2023-09-05T17:49:04.524560Z",
     "iopub.status.busy": "2023-09-05T17:49:04.523956Z",
     "iopub.status.idle": "2023-09-05T17:49:05.230490Z",
     "shell.execute_reply": "2023-09-05T17:49:05.229585Z",
     "shell.execute_reply.started": "2023-09-05T17:49:04.524524Z"
    }
   },
   "outputs": [
    {
     "data": {
      "image/png": "[encoded data removed]",
      "text/plain": [
       "<Figure size 1200x800 with 2 Axes>"
      ]
     },
     "metadata": {},
     "output_type": "display_data"
    }
   ],
   "source": [
    "\n",
    "# Select only the numeric columns\n",
    "numeric_data = data.select_dtypes(include=['number'])\n",
    "\n",
    "# Calculate the correlation matrix for numeric columns\n",
    "correlation_matrix = numeric_data.corr()\n",
    "\n",
    "# Create a heatmap\n",
    "plt.figure(figsize=(12, 8))\n",
    "sns.heatmap(correlation_matrix, annot=True, cmap='coolwarm', fmt=\".2f\")\n",
    "plt.title('Correlation Heatmap for Numeric Columns')\n",
    "\n",
    "plt.show()\n"
   ]
  },
  {
   "cell_type": "code",
   "execution_count": 18,
   "metadata": {
    "execution": {
     "iopub.execute_input": "2023-09-05T17:49:05.232357Z",
     "iopub.status.busy": "2023-09-05T17:49:05.231988Z",
     "iopub.status.idle": "2023-09-05T17:49:05.237858Z",
     "shell.execute_reply": "2023-09-05T17:49:05.236665Z",
     "shell.execute_reply.started": "2023-09-05T17:49:05.232325Z"
    }
   },
   "outputs": [],
   "source": [
    "# Dropping the columns as of now they are not mush corelated & also wouldn't damper the performance of model\n",
    "\n",
    "columns_to_be_dropped = ['TransactionID','MerchantID','CustomerID','Name', 'Age', 'Address']"
   ]
  },
  {
   "cell_type": "code",
   "execution_count": 19,
   "metadata": {
    "execution": {
     "iopub.execute_input": "2023-09-05T17:49:05.239808Z",
     "iopub.status.busy": "2023-09-05T17:49:05.239462Z",
     "iopub.status.idle": "2023-09-05T17:49:05.265567Z",
     "shell.execute_reply": "2023-09-05T17:49:05.264341Z",
     "shell.execute_reply.started": "2023-09-05T17:49:05.239779Z"
    }
   },
   "outputs": [
    {
     "data": {
      "text/html": [
       "<div>\n",
       "<style scoped>\n",
       "    .dataframe tbody tr th:only-of-type {\n",
       "        vertical-align: middle;\n",
       "    }\n",
       "\n",
       "    .dataframe tbody tr th {\n",
       "        vertical-align: top;\n",
       "    }\n",
       "\n",
       "    .dataframe thead th {\n",
       "        text-align: right;\n",
       "    }\n",
       "</style>\n",
       "<table border=\"1\" class=\"dataframe\">\n",
       "  <thead>\n",
       "    <tr style=\"text-align: right;\">\n",
       "      <th></th>\n",
       "      <th>FraudIndicator</th>\n",
       "      <th>Category</th>\n",
       "      <th>TransactionAmount</th>\n",
       "      <th>AnomalyScore</th>\n",
       "      <th>Timestamp</th>\n",
       "      <th>Amount</th>\n",
       "      <th>AccountBalance</th>\n",
       "      <th>LastLogin</th>\n",
       "      <th>SuspiciousFlag</th>\n",
       "    </tr>\n",
       "  </thead>\n",
       "  <tbody>\n",
       "    <tr>\n",
       "      <th>0</th>\n",
       "      <td>0</td>\n",
       "      <td>Other</td>\n",
       "      <td>79.413607</td>\n",
       "      <td>0.686699</td>\n",
       "      <td>2022-01-01 00:00:00</td>\n",
       "      <td>55.530334</td>\n",
       "      <td>2869.689912</td>\n",
       "      <td>2024-08-09</td>\n",
       "      <td>0</td>\n",
       "    </tr>\n",
       "    <tr>\n",
       "      <th>1</th>\n",
       "      <td>0</td>\n",
       "      <td>Food</td>\n",
       "      <td>90.422026</td>\n",
       "      <td>0.040817</td>\n",
       "      <td>2022-02-07 06:00:00</td>\n",
       "      <td>53.683898</td>\n",
       "      <td>2869.689912</td>\n",
       "      <td>2024-08-09</td>\n",
       "      <td>0</td>\n",
       "    </tr>\n",
       "    <tr>\n",
       "      <th>2</th>\n",
       "      <td>0</td>\n",
       "      <td>Online</td>\n",
       "      <td>12.053087</td>\n",
       "      <td>0.081749</td>\n",
       "      <td>2022-01-01 01:00:00</td>\n",
       "      <td>12.881180</td>\n",
       "      <td>9527.947107</td>\n",
       "      <td>2022-01-27</td>\n",
       "      <td>0</td>\n",
       "    </tr>\n",
       "    <tr>\n",
       "      <th>3</th>\n",
       "      <td>0</td>\n",
       "      <td>Travel</td>\n",
       "      <td>33.310357</td>\n",
       "      <td>0.023857</td>\n",
       "      <td>2022-01-01 02:00:00</td>\n",
       "      <td>50.176322</td>\n",
       "      <td>9288.355525</td>\n",
       "      <td>2024-08-12</td>\n",
       "      <td>0</td>\n",
       "    </tr>\n",
       "    <tr>\n",
       "      <th>4</th>\n",
       "      <td>0</td>\n",
       "      <td>Retail</td>\n",
       "      <td>20.295348</td>\n",
       "      <td>0.476812</td>\n",
       "      <td>2022-01-23 15:00:00</td>\n",
       "      <td>52.991184</td>\n",
       "      <td>9288.355525</td>\n",
       "      <td>2024-08-12</td>\n",
       "      <td>0</td>\n",
       "    </tr>\n",
       "  </tbody>\n",
       "</table>\n",
       "</div>"
      ],
      "text/plain": [
       "   FraudIndicator Category  TransactionAmount  AnomalyScore  \\\n",
       "0               0    Other          79.413607      0.686699   \n",
       "1               0     Food          90.422026      0.040817   \n",
       "2               0   Online          12.053087      0.081749   \n",
       "3               0   Travel          33.310357      0.023857   \n",
       "4               0   Retail          20.295348      0.476812   \n",
       "\n",
       "             Timestamp     Amount  AccountBalance   LastLogin  SuspiciousFlag  \n",
       "0  2022-01-01 00:00:00  55.530334     2869.689912  2024-08-09               0  \n",
       "1  2022-02-07 06:00:00  53.683898     2869.689912  2024-08-09               0  \n",
       "2  2022-01-01 01:00:00  12.881180     9527.947107  2022-01-27               0  \n",
       "3  2022-01-01 02:00:00  50.176322     9288.355525  2024-08-12               0  \n",
       "4  2022-01-23 15:00:00  52.991184     9288.355525  2024-08-12               0  "
      ]
     },
     "execution_count": 19,
     "metadata": {},
     "output_type": "execute_result"
    }
   ],
   "source": [
    "data1 = data.drop(columns_to_be_dropped, axis=1)\n",
    "data1.head()"
   ]
  },
  {
   "cell_type": "code",
   "execution_count": 135,
   "metadata": {},
   "outputs": [
    {
     "name": "stdout",
     "output_type": "stream",
     "text": [
      "     FraudIndicator Category  TransactionAmount  AnomalyScore  \\\n",
      "18                1   Retail          75.659944      0.010471   \n",
      "22                1   Travel          78.346754      0.830407   \n",
      "35                1     Food          79.679529      0.252012   \n",
      "86                1    Other          11.939593      0.006120   \n",
      "130               1   Online          53.916742      0.161773   \n",
      "\n",
      "               Timestamp     Amount  AccountBalance  LastLogin  \\\n",
      "18   2022-01-01 08:00:00  37.182412     8935.007146 2022-12-13   \n",
      "22   2022-01-16 03:00:00  61.136532     4344.549864 2023-02-28   \n",
      "35   2022-01-01 18:00:00  13.615519     8326.149989 2023-10-13   \n",
      "86   2022-01-03 00:00:00  30.793728     6552.420255 2024-01-22   \n",
      "130  2022-01-03 23:00:00  57.316159     7665.932450 2022-10-13   \n",
      "\n",
      "     SuspiciousFlag          Timestamp1  Hour  gap  \n",
      "18                0 2022-01-01 08:00:00     8  346  \n",
      "22                0 2022-01-16 03:00:00     3  408  \n",
      "35                0 2022-01-01 18:00:00    18  650  \n",
      "86                0 2022-01-03 00:00:00     0  749  \n",
      "130               0 2022-01-03 23:00:00    23  283  \n"
     ]
    }
   ],
   "source": [
    "fraud_cases = data1.query('FraudIndicator == 1').head(5)\n",
    "print(fraud_cases)\n"
   ]
  },
  {
   "cell_type": "code",
   "execution_count": 20,
   "metadata": {
    "execution": {
     "iopub.execute_input": "2023-09-05T17:49:05.267453Z",
     "iopub.status.busy": "2023-09-05T17:49:05.267125Z",
     "iopub.status.idle": "2023-09-05T17:49:05.279046Z",
     "shell.execute_reply": "2023-09-05T17:49:05.277752Z",
     "shell.execute_reply.started": "2023-09-05T17:49:05.267424Z"
    }
   },
   "outputs": [
    {
     "data": {
      "text/plain": [
       "(0    955\n",
       " 1     45\n",
       " Name: FraudIndicator, dtype: int64,\n",
       " 0    975\n",
       " 1     25\n",
       " Name: SuspiciousFlag, dtype: int64,\n",
       " Other     210\n",
       " Food      204\n",
       " Travel    198\n",
       " Online    196\n",
       " Retail    192\n",
       " Name: Category, dtype: int64)"
      ]
     },
     "execution_count": 20,
     "metadata": {},
     "output_type": "execute_result"
    }
   ],
   "source": [
    "data1['FraudIndicator'].value_counts(), data1['SuspiciousFlag'].value_counts(), data1['Category'].value_counts()"
   ]
  },
  {
   "cell_type": "markdown",
   "metadata": {},
   "source": [
    "<div style=\"background-color: #ffc8dd; border-radius: 10px; text-align: center; padding: 20px;\">\n",
    "    <h1 style=\"color: black;\">Feature Engineering</h1>\n",
    "</div>\n"
   ]
  },
  {
   "cell_type": "code",
   "execution_count": 21,
   "metadata": {
    "execution": {
     "iopub.execute_input": "2023-09-05T17:49:05.281103Z",
     "iopub.status.busy": "2023-09-05T17:49:05.280630Z",
     "iopub.status.idle": "2023-09-05T17:49:05.289896Z",
     "shell.execute_reply": "2023-09-05T17:49:05.288357Z",
     "shell.execute_reply.started": "2023-09-05T17:49:05.281060Z"
    }
   },
   "outputs": [
    {
     "name": "stdout",
     "output_type": "stream",
     "text": [
      "The 'Timestamp' column is not in datetime format.\n"
     ]
    }
   ],
   "source": [
    "# Using Feature Engineering Creating two Columns\n",
    "# Hour of Transaction = hour\n",
    "# Gap between the day of transaction and last login in days = gap\n",
    "if pd.api.types.is_datetime64_any_dtype(data['Timestamp']):\n",
    "    print(\"The 'Timestamp' column is already in datetime format.\")\n",
    "else:\n",
    "    print(\"The 'Timestamp' column is not in datetime format.\")"
   ]
  },
  {
   "cell_type": "markdown",
   "metadata": {},
   "source": [
    "Converting TimeStamp to datetime format"
   ]
  },
  {
   "cell_type": "code",
   "execution_count": 22,
   "metadata": {
    "execution": {
     "iopub.execute_input": "2023-09-05T17:49:05.292070Z",
     "iopub.status.busy": "2023-09-05T17:49:05.291608Z",
     "iopub.status.idle": "2023-09-05T17:49:05.309233Z",
     "shell.execute_reply": "2023-09-05T17:49:05.307980Z",
     "shell.execute_reply.started": "2023-09-05T17:49:05.292027Z"
    }
   },
   "outputs": [
    {
     "name": "stdout",
     "output_type": "stream",
     "text": [
      "FraudIndicator                int64\n",
      "Category                     object\n",
      "TransactionAmount           float64\n",
      "AnomalyScore                float64\n",
      "Timestamp                    object\n",
      "Amount                      float64\n",
      "AccountBalance              float64\n",
      "LastLogin                    object\n",
      "SuspiciousFlag                int64\n",
      "Timestamp1           datetime64[ns]\n",
      "dtype: object\n"
     ]
    }
   ],
   "source": [
    "data1['Timestamp1'] = pd.to_datetime(data1['Timestamp'])\n",
    "\n",
    "print(data1.dtypes)"
   ]
  },
  {
   "cell_type": "code",
   "execution_count": 23,
   "metadata": {
    "execution": {
     "iopub.execute_input": "2023-09-05T17:49:05.311510Z",
     "iopub.status.busy": "2023-09-05T17:49:05.310973Z",
     "iopub.status.idle": "2023-09-05T17:49:05.322454Z",
     "shell.execute_reply": "2023-09-05T17:49:05.321535Z",
     "shell.execute_reply.started": "2023-09-05T17:49:05.311468Z"
    }
   },
   "outputs": [],
   "source": [
    "data1['Hour'] = data1['Timestamp1'].dt.hour"
   ]
  },
  {
   "cell_type": "code",
   "execution_count": 24,
   "metadata": {
    "execution": {
     "iopub.execute_input": "2023-09-05T17:49:05.324790Z",
     "iopub.status.busy": "2023-09-05T17:49:05.323898Z",
     "iopub.status.idle": "2023-09-05T17:49:05.339494Z",
     "shell.execute_reply": "2023-09-05T17:49:05.338243Z",
     "shell.execute_reply.started": "2023-09-05T17:49:05.324756Z"
    }
   },
   "outputs": [],
   "source": [
    "data1['LastLogin'] = pd.to_datetime(data1['LastLogin'])"
   ]
  },
  {
   "cell_type": "code",
   "execution_count": 25,
   "metadata": {
    "execution": {
     "iopub.execute_input": "2023-09-05T17:49:05.341118Z",
     "iopub.status.busy": "2023-09-05T17:49:05.340795Z",
     "iopub.status.idle": "2023-09-05T17:49:05.356096Z",
     "shell.execute_reply": "2023-09-05T17:49:05.354857Z",
     "shell.execute_reply.started": "2023-09-05T17:49:05.341090Z"
    }
   },
   "outputs": [],
   "source": [
    "data1['gap'] = (data1['Timestamp1'] - data1['LastLogin']).dt.days.abs()"
   ]
  },
  {
   "cell_type": "code",
   "execution_count": 26,
   "metadata": {
    "execution": {
     "iopub.execute_input": "2023-09-05T17:49:05.358039Z",
     "iopub.status.busy": "2023-09-05T17:49:05.357352Z",
     "iopub.status.idle": "2023-09-05T17:49:05.379939Z",
     "shell.execute_reply": "2023-09-05T17:49:05.378746Z",
     "shell.execute_reply.started": "2023-09-05T17:49:05.357996Z"
    }
   },
   "outputs": [
    {
     "data": {
      "text/html": [
       "<div>\n",
       "<style scoped>\n",
       "    .dataframe tbody tr th:only-of-type {\n",
       "        vertical-align: middle;\n",
       "    }\n",
       "\n",
       "    .dataframe tbody tr th {\n",
       "        vertical-align: top;\n",
       "    }\n",
       "\n",
       "    .dataframe thead th {\n",
       "        text-align: right;\n",
       "    }\n",
       "</style>\n",
       "<table border=\"1\" class=\"dataframe\">\n",
       "  <thead>\n",
       "    <tr style=\"text-align: right;\">\n",
       "      <th></th>\n",
       "      <th>FraudIndicator</th>\n",
       "      <th>Category</th>\n",
       "      <th>TransactionAmount</th>\n",
       "      <th>AnomalyScore</th>\n",
       "      <th>Timestamp</th>\n",
       "      <th>Amount</th>\n",
       "      <th>AccountBalance</th>\n",
       "      <th>LastLogin</th>\n",
       "      <th>SuspiciousFlag</th>\n",
       "      <th>Timestamp1</th>\n",
       "      <th>Hour</th>\n",
       "      <th>gap</th>\n",
       "    </tr>\n",
       "  </thead>\n",
       "  <tbody>\n",
       "    <tr>\n",
       "      <th>0</th>\n",
       "      <td>0</td>\n",
       "      <td>Other</td>\n",
       "      <td>79.413607</td>\n",
       "      <td>0.686699</td>\n",
       "      <td>2022-01-01 00:00:00</td>\n",
       "      <td>55.530334</td>\n",
       "      <td>2869.689912</td>\n",
       "      <td>2024-08-09</td>\n",
       "      <td>0</td>\n",
       "      <td>2022-01-01 00:00:00</td>\n",
       "      <td>0</td>\n",
       "      <td>951</td>\n",
       "    </tr>\n",
       "    <tr>\n",
       "      <th>1</th>\n",
       "      <td>0</td>\n",
       "      <td>Food</td>\n",
       "      <td>90.422026</td>\n",
       "      <td>0.040817</td>\n",
       "      <td>2022-02-07 06:00:00</td>\n",
       "      <td>53.683898</td>\n",
       "      <td>2869.689912</td>\n",
       "      <td>2024-08-09</td>\n",
       "      <td>0</td>\n",
       "      <td>2022-02-07 06:00:00</td>\n",
       "      <td>6</td>\n",
       "      <td>914</td>\n",
       "    </tr>\n",
       "    <tr>\n",
       "      <th>2</th>\n",
       "      <td>0</td>\n",
       "      <td>Online</td>\n",
       "      <td>12.053087</td>\n",
       "      <td>0.081749</td>\n",
       "      <td>2022-01-01 01:00:00</td>\n",
       "      <td>12.881180</td>\n",
       "      <td>9527.947107</td>\n",
       "      <td>2022-01-27</td>\n",
       "      <td>0</td>\n",
       "      <td>2022-01-01 01:00:00</td>\n",
       "      <td>1</td>\n",
       "      <td>26</td>\n",
       "    </tr>\n",
       "    <tr>\n",
       "      <th>3</th>\n",
       "      <td>0</td>\n",
       "      <td>Travel</td>\n",
       "      <td>33.310357</td>\n",
       "      <td>0.023857</td>\n",
       "      <td>2022-01-01 02:00:00</td>\n",
       "      <td>50.176322</td>\n",
       "      <td>9288.355525</td>\n",
       "      <td>2024-08-12</td>\n",
       "      <td>0</td>\n",
       "      <td>2022-01-01 02:00:00</td>\n",
       "      <td>2</td>\n",
       "      <td>954</td>\n",
       "    </tr>\n",
       "    <tr>\n",
       "      <th>4</th>\n",
       "      <td>0</td>\n",
       "      <td>Retail</td>\n",
       "      <td>20.295348</td>\n",
       "      <td>0.476812</td>\n",
       "      <td>2022-01-23 15:00:00</td>\n",
       "      <td>52.991184</td>\n",
       "      <td>9288.355525</td>\n",
       "      <td>2024-08-12</td>\n",
       "      <td>0</td>\n",
       "      <td>2022-01-23 15:00:00</td>\n",
       "      <td>15</td>\n",
       "      <td>932</td>\n",
       "    </tr>\n",
       "  </tbody>\n",
       "</table>\n",
       "</div>"
      ],
      "text/plain": [
       "   FraudIndicator Category  TransactionAmount  AnomalyScore  \\\n",
       "0               0    Other          79.413607      0.686699   \n",
       "1               0     Food          90.422026      0.040817   \n",
       "2               0   Online          12.053087      0.081749   \n",
       "3               0   Travel          33.310357      0.023857   \n",
       "4               0   Retail          20.295348      0.476812   \n",
       "\n",
       "             Timestamp     Amount  AccountBalance  LastLogin  SuspiciousFlag  \\\n",
       "0  2022-01-01 00:00:00  55.530334     2869.689912 2024-08-09               0   \n",
       "1  2022-02-07 06:00:00  53.683898     2869.689912 2024-08-09               0   \n",
       "2  2022-01-01 01:00:00  12.881180     9527.947107 2022-01-27               0   \n",
       "3  2022-01-01 02:00:00  50.176322     9288.355525 2024-08-12               0   \n",
       "4  2022-01-23 15:00:00  52.991184     9288.355525 2024-08-12               0   \n",
       "\n",
       "           Timestamp1  Hour  gap  \n",
       "0 2022-01-01 00:00:00     0  951  \n",
       "1 2022-02-07 06:00:00     6  914  \n",
       "2 2022-01-01 01:00:00     1   26  \n",
       "3 2022-01-01 02:00:00     2  954  \n",
       "4 2022-01-23 15:00:00    15  932  "
      ]
     },
     "execution_count": 26,
     "metadata": {},
     "output_type": "execute_result"
    }
   ],
   "source": [
    "data1.head()"
   ]
  },
  {
   "cell_type": "markdown",
   "metadata": {},
   "source": [
    "<div style=\"background-color: #ccd5ae; border-radius: 10px; text-align: center; padding: 20px;\">\n",
    "    <h1 style=\"color: black;\">Data Modelling</h1>\n",
    "</div>\n"
   ]
  },
  {
   "cell_type": "code",
   "execution_count": 27,
   "metadata": {
    "execution": {
     "iopub.execute_input": "2023-09-05T17:49:05.381997Z",
     "iopub.status.busy": "2023-09-05T17:49:05.381476Z",
     "iopub.status.idle": "2023-09-05T17:49:05.389736Z",
     "shell.execute_reply": "2023-09-05T17:49:05.388363Z",
     "shell.execute_reply.started": "2023-09-05T17:49:05.381955Z"
    }
   },
   "outputs": [],
   "source": [
    "X = data1.drop(['FraudIndicator','Timestamp','Timestamp1','LastLogin'],axis=1)\n",
    "Y = data1['FraudIndicator']"
   ]
  },
  {
   "cell_type": "code",
   "execution_count": 28,
   "metadata": {
    "execution": {
     "iopub.execute_input": "2023-09-05T17:49:05.397392Z",
     "iopub.status.busy": "2023-09-05T17:49:05.397011Z",
     "iopub.status.idle": "2023-09-05T17:49:05.605415Z",
     "shell.execute_reply": "2023-09-05T17:49:05.604414Z",
     "shell.execute_reply.started": "2023-09-05T17:49:05.397362Z"
    }
   },
   "outputs": [
    {
     "data": {
      "text/html": [
       "<div>\n",
       "<style scoped>\n",
       "    .dataframe tbody tr th:only-of-type {\n",
       "        vertical-align: middle;\n",
       "    }\n",
       "\n",
       "    .dataframe tbody tr th {\n",
       "        vertical-align: top;\n",
       "    }\n",
       "\n",
       "    .dataframe thead th {\n",
       "        text-align: right;\n",
       "    }\n",
       "</style>\n",
       "<table border=\"1\" class=\"dataframe\">\n",
       "  <thead>\n",
       "    <tr style=\"text-align: right;\">\n",
       "      <th></th>\n",
       "      <th>Category</th>\n",
       "      <th>TransactionAmount</th>\n",
       "      <th>AnomalyScore</th>\n",
       "      <th>Amount</th>\n",
       "      <th>AccountBalance</th>\n",
       "      <th>SuspiciousFlag</th>\n",
       "      <th>Hour</th>\n",
       "      <th>gap</th>\n",
       "    </tr>\n",
       "  </thead>\n",
       "  <tbody>\n",
       "    <tr>\n",
       "      <th>0</th>\n",
       "      <td>2</td>\n",
       "      <td>79.413607</td>\n",
       "      <td>0.686699</td>\n",
       "      <td>55.530334</td>\n",
       "      <td>2869.689912</td>\n",
       "      <td>0</td>\n",
       "      <td>0</td>\n",
       "      <td>951</td>\n",
       "    </tr>\n",
       "    <tr>\n",
       "      <th>1</th>\n",
       "      <td>0</td>\n",
       "      <td>90.422026</td>\n",
       "      <td>0.040817</td>\n",
       "      <td>53.683898</td>\n",
       "      <td>2869.689912</td>\n",
       "      <td>0</td>\n",
       "      <td>6</td>\n",
       "      <td>914</td>\n",
       "    </tr>\n",
       "    <tr>\n",
       "      <th>2</th>\n",
       "      <td>1</td>\n",
       "      <td>12.053087</td>\n",
       "      <td>0.081749</td>\n",
       "      <td>12.881180</td>\n",
       "      <td>9527.947107</td>\n",
       "      <td>0</td>\n",
       "      <td>1</td>\n",
       "      <td>26</td>\n",
       "    </tr>\n",
       "    <tr>\n",
       "      <th>3</th>\n",
       "      <td>4</td>\n",
       "      <td>33.310357</td>\n",
       "      <td>0.023857</td>\n",
       "      <td>50.176322</td>\n",
       "      <td>9288.355525</td>\n",
       "      <td>0</td>\n",
       "      <td>2</td>\n",
       "      <td>954</td>\n",
       "    </tr>\n",
       "    <tr>\n",
       "      <th>4</th>\n",
       "      <td>3</td>\n",
       "      <td>20.295348</td>\n",
       "      <td>0.476812</td>\n",
       "      <td>52.991184</td>\n",
       "      <td>9288.355525</td>\n",
       "      <td>0</td>\n",
       "      <td>15</td>\n",
       "      <td>932</td>\n",
       "    </tr>\n",
       "    <tr>\n",
       "      <th>...</th>\n",
       "      <td>...</td>\n",
       "      <td>...</td>\n",
       "      <td>...</td>\n",
       "      <td>...</td>\n",
       "      <td>...</td>\n",
       "      <td>...</td>\n",
       "      <td>...</td>\n",
       "      <td>...</td>\n",
       "    </tr>\n",
       "    <tr>\n",
       "      <th>995</th>\n",
       "      <td>2</td>\n",
       "      <td>89.972362</td>\n",
       "      <td>0.285603</td>\n",
       "      <td>29.328815</td>\n",
       "      <td>1678.514968</td>\n",
       "      <td>0</td>\n",
       "      <td>1</td>\n",
       "      <td>664</td>\n",
       "    </tr>\n",
       "    <tr>\n",
       "      <th>996</th>\n",
       "      <td>0</td>\n",
       "      <td>17.848481</td>\n",
       "      <td>0.029543</td>\n",
       "      <td>20.443811</td>\n",
       "      <td>6018.443647</td>\n",
       "      <td>0</td>\n",
       "      <td>4</td>\n",
       "      <td>270</td>\n",
       "    </tr>\n",
       "    <tr>\n",
       "      <th>997</th>\n",
       "      <td>0</td>\n",
       "      <td>89.457059</td>\n",
       "      <td>0.266778</td>\n",
       "      <td>19.876750</td>\n",
       "      <td>1290.323059</td>\n",
       "      <td>0</td>\n",
       "      <td>11</td>\n",
       "      <td>369</td>\n",
       "    </tr>\n",
       "    <tr>\n",
       "      <th>998</th>\n",
       "      <td>3</td>\n",
       "      <td>47.958030</td>\n",
       "      <td>0.512483</td>\n",
       "      <td>96.299792</td>\n",
       "      <td>7067.831609</td>\n",
       "      <td>0</td>\n",
       "      <td>12</td>\n",
       "      <td>524</td>\n",
       "    </tr>\n",
       "    <tr>\n",
       "      <th>999</th>\n",
       "      <td>0</td>\n",
       "      <td>64.210046</td>\n",
       "      <td>0.367740</td>\n",
       "      <td>75.164459</td>\n",
       "      <td>9088.738359</td>\n",
       "      <td>0</td>\n",
       "      <td>13</td>\n",
       "      <td>612</td>\n",
       "    </tr>\n",
       "  </tbody>\n",
       "</table>\n",
       "<p>1000 rows × 8 columns</p>\n",
       "</div>"
      ],
      "text/plain": [
       "     Category  TransactionAmount  AnomalyScore     Amount  AccountBalance  \\\n",
       "0           2          79.413607      0.686699  55.530334     2869.689912   \n",
       "1           0          90.422026      0.040817  53.683898     2869.689912   \n",
       "2           1          12.053087      0.081749  12.881180     9527.947107   \n",
       "3           4          33.310357      0.023857  50.176322     9288.355525   \n",
       "4           3          20.295348      0.476812  52.991184     9288.355525   \n",
       "..        ...                ...           ...        ...             ...   \n",
       "995         2          89.972362      0.285603  29.328815     1678.514968   \n",
       "996         0          17.848481      0.029543  20.443811     6018.443647   \n",
       "997         0          89.457059      0.266778  19.876750     1290.323059   \n",
       "998         3          47.958030      0.512483  96.299792     7067.831609   \n",
       "999         0          64.210046      0.367740  75.164459     9088.738359   \n",
       "\n",
       "     SuspiciousFlag  Hour  gap  \n",
       "0                 0     0  951  \n",
       "1                 0     6  914  \n",
       "2                 0     1   26  \n",
       "3                 0     2  954  \n",
       "4                 0    15  932  \n",
       "..              ...   ...  ...  \n",
       "995               0     1  664  \n",
       "996               0     4  270  \n",
       "997               0    11  369  \n",
       "998               0    12  524  \n",
       "999               0    13  612  \n",
       "\n",
       "[1000 rows x 8 columns]"
      ]
     },
     "execution_count": 28,
     "metadata": {},
     "output_type": "execute_result"
    }
   ],
   "source": [
    "from sklearn.preprocessing import LabelEncoder\n",
    "# Create an instance of LabelEncoder\n",
    "label_encoder = LabelEncoder()\n",
    "\n",
    "# Fit and transform the 'Category' column\n",
    "X['Category'] = label_encoder.fit_transform(X['Category'])\n",
    "X"
   ]
  },
  {
   "cell_type": "markdown",
   "metadata": {},
   "source": [
    "train,test,splitting the data"
   ]
  },
  {
   "cell_type": "code",
   "execution_count": 29,
   "metadata": {
    "execution": {
     "iopub.execute_input": "2023-09-05T17:49:05.607927Z",
     "iopub.status.busy": "2023-09-05T17:49:05.607476Z",
     "iopub.status.idle": "2023-09-05T17:49:05.645579Z",
     "shell.execute_reply": "2023-09-05T17:49:05.644141Z",
     "shell.execute_reply.started": "2023-09-05T17:49:05.607889Z"
    }
   },
   "outputs": [],
   "source": [
    "from sklearn.model_selection import train_test_split\n",
    "X_train, X_test, Y_train, Y_test = train_test_split(X,Y,test_size=0.2)"
   ]
  },
  {
   "cell_type": "code",
   "execution_count": 30,
   "metadata": {
    "execution": {
     "iopub.execute_input": "2023-09-05T17:49:05.647510Z",
     "iopub.status.busy": "2023-09-05T17:49:05.647156Z",
     "iopub.status.idle": "2023-09-05T17:49:05.659426Z",
     "shell.execute_reply": "2023-09-05T17:49:05.657950Z",
     "shell.execute_reply.started": "2023-09-05T17:49:05.647480Z"
    }
   },
   "outputs": [
    {
     "data": {
      "text/plain": [
       "((800, 8), (200,))"
      ]
     },
     "execution_count": 30,
     "metadata": {},
     "output_type": "execute_result"
    }
   ],
   "source": [
    "X_train.shape,Y_test.shape"
   ]
  },
  {
   "cell_type": "code",
   "execution_count": 31,
   "metadata": {
    "execution": {
     "iopub.execute_input": "2023-09-05T17:49:05.662011Z",
     "iopub.status.busy": "2023-09-05T17:49:05.661605Z",
     "iopub.status.idle": "2023-09-05T17:49:05.734522Z",
     "shell.execute_reply": "2023-09-05T17:49:05.732890Z",
     "shell.execute_reply.started": "2023-09-05T17:49:05.661980Z"
    }
   },
   "outputs": [
    {
     "name": "stdout",
     "output_type": "stream",
     "text": [
      "Accuracy: 0.955\n"
     ]
    }
   ],
   "source": [
    "# Logistic Regression model\n",
    "\n",
    "from sklearn.linear_model import LogisticRegression\n",
    "from sklearn.metrics import accuracy_score, precision_score, recall_score, f1_score, confusion_matrix\n",
    "\n",
    "# Create a logistic regression model\n",
    "model = LogisticRegression()\n",
    "\n",
    "# Train the model on the training data\n",
    "model.fit(X_train, Y_train)\n",
    "\n",
    "# Make predictions on the testing data\n",
    "y_pred = model.predict(X_test)\n",
    "\n",
    "# Calculate the accuracy of the model\n",
    "accuracy = accuracy_score(Y_test, y_pred)\n",
    "print(\"Accuracy:\", accuracy)\n",
    "\n",
    "\n"
   ]
  },
  {
   "cell_type": "markdown",
   "metadata": {},
   "source": [
    "##### High accuracy is not often a good thing in a machine learning model as it states the problem of imbalanced dataset"
   ]
  },
  {
   "cell_type": "code",
   "execution_count": 32,
   "metadata": {
    "execution": {
     "iopub.execute_input": "2023-09-05T17:49:05.736359Z",
     "iopub.status.busy": "2023-09-05T17:49:05.735998Z",
     "iopub.status.idle": "2023-09-05T17:49:06.012087Z",
     "shell.execute_reply": "2023-09-05T17:49:06.010590Z",
     "shell.execute_reply.started": "2023-09-05T17:49:05.736330Z"
    }
   },
   "outputs": [
    {
     "data": {
      "image/png": "[encoded data removed]",
      "text/plain": [
       "<Figure size 800x600 with 1 Axes>"
      ]
     },
     "metadata": {},
     "output_type": "display_data"
    }
   ],
   "source": [
    "import seaborn as sns\n",
    "import matplotlib.pyplot as plt\n",
    "\n",
    "# Assuming you have a DataFrame 'df' with a 'FraudIndicator' column\n",
    "# Load your data into the DataFrame if not already done\n",
    "\n",
    "# Create a count plot for the 'FraudIndicator' column\n",
    "plt.figure(figsize=(8, 6))  # Optional: Adjust the figure size\n",
    "sns.countplot(data=data1, x='FraudIndicator', palette='viridis')\n",
    "plt.title('Count Plot of Fraud Indicator')\n",
    "plt.xlabel('Fraud Indicator')\n",
    "plt.ylabel('Count')\n",
    "plt.show()\n"
   ]
  },
  {
   "cell_type": "code",
   "execution_count": 33,
   "metadata": {
    "execution": {
     "iopub.execute_input": "2023-09-05T17:49:06.015143Z",
     "iopub.status.busy": "2023-09-05T17:49:06.014137Z",
     "iopub.status.idle": "2023-09-05T17:49:06.393580Z",
     "shell.execute_reply": "2023-09-05T17:49:06.391907Z",
     "shell.execute_reply.started": "2023-09-05T17:49:06.015098Z"
    }
   },
   "outputs": [
    {
     "name": "stdout",
     "output_type": "stream",
     "text": [
      "Class distribution after oversampling: Counter({0: 955, 1: 955})\n"
     ]
    },
    {
     "data": {
      "image/png": "[encoded data removed]",
      "text/plain": [
       "<Figure size 800x600 with 1 Axes>"
      ]
     },
     "metadata": {},
     "output_type": "display_data"
    }
   ],
   "source": [
    "import pandas as pd\n",
    "import seaborn as sns\n",
    "import matplotlib.pyplot as plt\n",
    "from imblearn.over_sampling import SMOTE\n",
    "from collections import Counter\n",
    "\n",
    "\n",
    "# Initialize SMOTE for oversampling\n",
    "smote = SMOTE(random_state=42)\n",
    "\n",
    "# Apply SMOTE to the data\n",
    "X_resampled, y_resampled = smote.fit_resample(X, Y)\n",
    "\n",
    "# Check the class distribution after oversampling\n",
    "print(\"Class distribution after oversampling:\", Counter(y_resampled))\n",
    "\n",
    "# Create a count plot for the 'FraudIndicator' column after oversampling\n",
    "plt.figure(figsize=(8, 6))\n",
    "sns.countplot(data=pd.DataFrame({'FraudIndicator': y_resampled}), x='FraudIndicator', palette='viridis')\n",
    "plt.title('Count Plot of Fraud Indicator (After Oversampling)')\n",
    "plt.xlabel('Fraud Indicator')\n",
    "plt.ylabel('Count')\n",
    "plt.show()\n"
   ]
  },
  {
   "cell_type": "code",
   "execution_count": 34,
   "metadata": {
    "execution": {
     "iopub.execute_input": "2023-09-05T17:49:06.395978Z",
     "iopub.status.busy": "2023-09-05T17:49:06.395274Z",
     "iopub.status.idle": "2023-09-05T17:49:06.503824Z",
     "shell.execute_reply": "2023-09-05T17:49:06.502005Z",
     "shell.execute_reply.started": "2023-09-05T17:49:06.395938Z"
    }
   },
   "outputs": [
    {
     "name": "stdout",
     "output_type": "stream",
     "text": [
      "Model Evaluation Metrics:\n",
      "Accuracy: 0.555\n",
      "Precision: 0.045454545454545456\n",
      "Recall: 0.4444444444444444\n",
      "F1 Score: 0.08247422680412371\n",
      "Confusion Matrix:\n",
      "[[107  84]\n",
      " [  5   4]]\n"
     ]
    }
   ],
   "source": [
    "# Retraining Logistic regression using SAMPLED Data\n",
    "\n",
    "model = LogisticRegression()\n",
    "\n",
    "# Train the model on the training data\n",
    "model.fit(X_resampled, y_resampled)\n",
    "\n",
    "# Make predictions on the testing data\n",
    "y_pred = model.predict(X_test)\n",
    "\n",
    "# Calculate and print various metrics to evaluate the model's performance\n",
    "accuracy = accuracy_score(Y_test, y_pred)\n",
    "precision = precision_score(Y_test, y_pred)\n",
    "recall = recall_score(Y_test, y_pred)\n",
    "f1 = f1_score(Y_test, y_pred)\n",
    "confusion = confusion_matrix(Y_test, y_pred)\n",
    "\n",
    "print(\"Model Evaluation Metrics:\")\n",
    "print(\"Accuracy:\", accuracy)\n",
    "print(\"Precision:\", precision)\n",
    "print(\"Recall:\", recall)\n",
    "print(\"F1 Score:\", f1)\n",
    "print(\"Confusion Matrix:\")\n",
    "print(confusion)"
   ]
  },
  {
   "cell_type": "markdown",
   "metadata": {},
   "source": [
    "## HYPERPARAMETER TUNING"
   ]
  },
  {
   "cell_type": "code",
   "execution_count": 35,
   "metadata": {
    "execution": {
     "iopub.execute_input": "2023-09-05T17:49:06.508125Z",
     "iopub.status.busy": "2023-09-05T17:49:06.506727Z",
     "iopub.status.idle": "2023-09-05T17:49:09.332905Z",
     "shell.execute_reply": "2023-09-05T17:49:09.331081Z",
     "shell.execute_reply.started": "2023-09-05T17:49:06.508049Z"
    }
   },
   "outputs": [
    {
     "name": "stdout",
     "output_type": "stream",
     "text": [
      "Best Hyperparameters: {'C': 10.0, 'penalty': 'l2', 'solver': 'liblinear'}\n",
      "Model Evaluation Metrics on Resampled Data:\n",
      "Accuracy: 0.6350785340314136\n",
      "Precision: 0.625242718446602\n",
      "Recall: 0.6743455497382199\n",
      "F1 Score: 0.6488664987405542\n",
      "Confusion Matrix:\n",
      "[[569 386]\n",
      " [311 644]]\n"
     ]
    }
   ],
   "source": [
    "import numpy as np\n",
    "from sklearn.model_selection import GridSearchCV\n",
    "from sklearn.linear_model import LogisticRegression\n",
    "\n",
    "# Define the logistic regression model\n",
    "model = LogisticRegression()\n",
    "\n",
    "# Define a range of hyperparameters to search\n",
    "param_grid = {\n",
    "    'penalty': ['l1', 'l2'],  # Regularization type\n",
    "    'C': np.logspace(-3, 3, 7),  # Inverse of regularization strength (smaller values for stronger regularization)\n",
    "    'solver': ['liblinear'],  # Solver for l1 regularization\n",
    "}\n",
    "\n",
    "# Create a grid search with cross-validation\n",
    "grid_search = GridSearchCV(model, param_grid, cv=5, scoring='f1', n_jobs=-1)\n",
    "\n",
    "# Fit the grid search to the data\n",
    "grid_search.fit(X_resampled, y_resampled)\n",
    "\n",
    "# Get the best hyperparameters and corresponding model\n",
    "best_params = grid_search.best_params_\n",
    "best_model = grid_search.best_estimator_\n",
    "\n",
    "# Print the best hyperparameters\n",
    "print(\"Best Hyperparameters:\", best_params)\n",
    "\n",
    "# Evaluate the best model on the resampled data\n",
    "y_pred = best_model.predict(X_resampled)\n",
    "\n",
    "# Calculate and print various metrics to evaluate the model's performance on the resampled data\n",
    "accuracy = accuracy_score(y_resampled, y_pred)\n",
    "precision = precision_score(y_resampled, y_pred)\n",
    "recall = recall_score(y_resampled, y_pred)\n",
    "f1 = f1_score(y_resampled, y_pred)\n",
    "confusion = confusion_matrix(y_resampled, y_pred)\n",
    "\n",
    "print(\"Model Evaluation Metrics on Resampled Data:\")\n",
    "print(\"Accuracy:\", accuracy)\n",
    "print(\"Precision:\", precision)\n",
    "print(\"Recall:\", recall)\n",
    "print(\"F1 Score:\", f1)\n",
    "print(\"Confusion Matrix:\")\n",
    "print(confusion)\n"
   ]
  },
  {
   "cell_type": "code",
   "execution_count": 36,
   "metadata": {
    "execution": {
     "iopub.execute_input": "2023-09-05T17:49:09.337748Z",
     "iopub.status.busy": "2023-09-05T17:49:09.336515Z",
     "iopub.status.idle": "2023-09-05T17:49:10.578006Z",
     "shell.execute_reply": "2023-09-05T17:49:10.576834Z",
     "shell.execute_reply.started": "2023-09-05T17:49:09.337685Z"
    }
   },
   "outputs": [
    {
     "name": "stdout",
     "output_type": "stream",
     "text": [
      "Results for Decision Tree Classifier:\n",
      "Accuracy: 0.8743455497382199\n",
      "Precision: 0.8512820512820513\n",
      "Recall: 0.8972972972972973\n",
      "F1 Score: 0.8736842105263158\n",
      "Confusion Matrix: [[168  29]\n",
      " [ 19 166]]\n",
      "\n",
      "Results for Random Forest Classifier:\n",
      "Accuracy: 0.9240837696335078\n",
      "Precision: 0.875\n",
      "Recall: 0.9837837837837838\n",
      "F1 Score: 0.9262086513994912\n",
      "Confusion Matrix: [[171  26]\n",
      " [  3 182]]\n",
      "\n",
      "Results for Support Vector Machine (SVM):\n",
      "Accuracy: 0.5235602094240838\n",
      "Precision: 0.5062240663900415\n",
      "Recall: 0.6594594594594595\n",
      "F1 Score: 0.5727699530516432\n",
      "Confusion Matrix: [[ 78 119]\n",
      " [ 63 122]]\n",
      "\n",
      "Results for K-Nearest Neighbors (KNN):\n",
      "Accuracy: 0.8324607329842932\n",
      "Precision: 0.7665198237885462\n",
      "Recall: 0.9405405405405406\n",
      "F1 Score: 0.8446601941747574\n",
      "Confusion Matrix: [[144  53]\n",
      " [ 11 174]]\n",
      "\n",
      "Results for Gradient Boosting Classifier:\n",
      "Accuracy: 0.8691099476439791\n",
      "Precision: 0.8026905829596412\n",
      "Recall: 0.9675675675675676\n",
      "F1 Score: 0.8774509803921569\n",
      "Confusion Matrix: [[153  44]\n",
      " [  6 179]]\n",
      "\n"
     ]
    }
   ],
   "source": [
    "from sklearn.metrics import accuracy_score, precision_score, recall_score, f1_score, confusion_matrix\n",
    "from sklearn.model_selection import train_test_split\n",
    "from sklearn.tree import DecisionTreeClassifier\n",
    "from sklearn.ensemble import RandomForestClassifier, GradientBoostingClassifier\n",
    "from sklearn.svm import SVC\n",
    "from sklearn.neighbors import KNeighborsClassifier\n",
    "\n",
    "def evaluate_classification_models(X_resampled, y_resampled):\n",
    "    # Split the resampled data into training and testing sets\n",
    "    X_train, X_test, y_train, y_test = train_test_split(X_resampled, y_resampled, test_size=0.2, random_state=42)\n",
    "    \n",
    "    # Define a dictionary of classification models\n",
    "    models = {\n",
    "        \"Decision Tree Classifier\": DecisionTreeClassifier(),\n",
    "        \"Random Forest Classifier\": RandomForestClassifier(),\n",
    "        \"Support Vector Machine (SVM)\": SVC(),\n",
    "        \"K-Nearest Neighbors (KNN)\": KNeighborsClassifier(),\n",
    "        \"Gradient Boosting Classifier\": GradientBoostingClassifier()\n",
    "    }\n",
    "    \n",
    "    results = {}\n",
    "    \n",
    "    for model_name, model in models.items():\n",
    "        # Train the model\n",
    "        model.fit(X_train, y_train)\n",
    "        \n",
    "        # Make predictions\n",
    "        y_pred = model.predict(X_test)\n",
    "        \n",
    "        # Calculate and store various metrics\n",
    "        accuracy = accuracy_score(y_test, y_pred)\n",
    "        precision = precision_score(y_test, y_pred)\n",
    "        recall = recall_score(y_test, y_pred)\n",
    "        f1 = f1_score(y_test, y_pred)\n",
    "        confusion = confusion_matrix(y_test, y_pred)\n",
    "        \n",
    "        results[model_name] = {\n",
    "            \"Accuracy\": accuracy,\n",
    "            \"Precision\": precision,\n",
    "            \"Recall\": recall,\n",
    "            \"F1 Score\": f1,\n",
    "            \"Confusion Matrix\": confusion\n",
    "        }\n",
    "    \n",
    "    return results\n",
    "\n",
    "results = evaluate_classification_models(X_resampled, y_resampled)\n",
    "for model_name, model_result in results.items():\n",
    "     print(f\"Results for {model_name}:\")\n",
    "     for metric, value in model_result.items():\n",
    "         print(f\"{metric}: {value}\")\n",
    "     print()\n"
   ]
  },
  {
   "cell_type": "markdown",
   "metadata": {},
   "source": [
    "# Ranking Models perfromance\n",
    "1. Random Forest Classifier\n",
    "2. Gradient Boosting Algorithm\n",
    "3. Decision Tree Classifier\n",
    "4. K-Nearest Neighbours\n",
    "5. Support Vector Machine (SVC)\n",
    "6. Logistic Regression"
   ]
  },
  {
   "cell_type": "markdown",
   "metadata": {},
   "source": [
    "### Now we can HyperParameterTune the <h1><b>RandomForest CLassifier</b></h1>"
   ]
  },
  {
   "cell_type": "code",
   "execution_count": 148,
   "metadata": {
    "execution": {
     "iopub.execute_input": "2023-09-05T17:49:10.580165Z",
     "iopub.status.busy": "2023-09-05T17:49:10.579814Z",
     "iopub.status.idle": "2023-09-05T17:50:34.414384Z",
     "shell.execute_reply": "2023-09-05T17:50:34.412168Z",
     "shell.execute_reply.started": "2023-09-05T17:49:10.580135Z"
    }
   },
   "outputs": [
    {
     "name": "stdout",
     "output_type": "stream",
     "text": [
      "Best Hyperparameters: {'max_depth': None, 'min_samples_leaf': 1, 'min_samples_split': 2, 'n_estimators': 100}\n",
      "Best Model Evaluation Metrics:\n",
      "Accuracy: 0.9214659685863874\n",
      "Precision: 0.8770226537216829\n",
      "Recall: 0.9748201438848921\n",
      "F1 Score: 0.9233390119250426\n",
      "Confusion Matrix:\n",
      "[[257  38]\n",
      " [  7 271]]\n"
     ]
    }
   ],
   "source": [
    "from sklearn.model_selection import train_test_split, GridSearchCV\n",
    "from sklearn.ensemble import RandomForestClassifier\n",
    "from sklearn.metrics import accuracy_score, precision_score, recall_score, f1_score, confusion_matrix\n",
    "\n",
    "# Split the data into training and testing sets\n",
    "X_train, X_test, y_train, y_test = train_test_split(X_resampled, y_resampled, test_size=0.3, random_state=42)\n",
    "\n",
    "# Define the Random Forest Classifier model\n",
    "rf_model = RandomForestClassifier(random_state=42)\n",
    "\n",
    "# Define a range of hyperparameters to search\n",
    "param_grid = {\n",
    "    'n_estimators': [50, 100, 150],  # Number of trees in the forest\n",
    "    'max_depth': [None, 10, 20, 30],  # Maximum depth of the trees\n",
    "    'min_samples_split': [2, 5, 10],  # Minimum number of samples required to split an internal node\n",
    "    'min_samples_leaf': [1, 2, 4],  # Minimum number of samples required to be at a leaf node\n",
    "}\n",
    "\n",
    "grid_search = GridSearchCV(rf_model, param_grid, cv=5, scoring='f1', n_jobs=-1)\n",
    "\n",
    "grid_search.fit(X_train, y_train)\n",
    "\n",
    "best_params = grid_search.best_params_\n",
    "best_rf_model = grid_search.best_estimator_\n",
    "\n",
    "print(\"Best Hyperparameters:\", best_params)\n",
    "\n",
    "\n",
    "best_rf_model.fit(X_train, y_train)\n",
    "\n",
    "y_pred = best_rf_model.predict(X_test)\n",
    "accuracy = accuracy_score(y_test, y_pred)\n",
    "precision = precision_score(y_test, y_pred)\n",
    "recall = recall_score(y_test, y_pred)\n",
    "f1 = f1_score(y_test, y_pred)\n",
    "confusion = confusion_matrix(y_test, y_pred)\n",
    "\n",
    "print(\"Best Model Evaluation Metrics:\")\n",
    "print(\"Accuracy:\", accuracy)\n",
    "print(\"Precision:\", precision)\n",
    "print(\"Recall:\", recall)\n",
    "print(\"F1 Score:\", f1)\n",
    "print(\"Confusion Matrix:\")\n",
    "print(confusion)\n"
   ]
  },
  {
   "cell_type": "code",
   "execution_count": 44,
   "metadata": {},
   "outputs": [
    {
     "data": {
      "text/plain": [
       "['label_encoder.joblib']"
      ]
     },
     "execution_count": 44,
     "metadata": {},
     "output_type": "execute_result"
    }
   ],
   "source": [
    "import joblib\n",
    "\n",
    "\n",
    "joblib.dump(best_rf_model, 'random_forest_model.joblib')\n",
    "import joblib\n",
    "\n",
    "# Assuming you have a LabelEncoder instance named 'label_encoder'\n",
    "joblib.dump(label_encoder, 'label_encoder.joblib')\n"
   ]
  },
  {
   "cell_type": "code",
   "execution_count": 75,
   "metadata": {},
   "outputs": [
    {
     "name": "stdout",
     "output_type": "stream",
     "text": [
      "Predicted Fraud Indicator: 0\n"
     ]
    }
   ],
   "source": [
    "def predict_fraud(input_features):\n",
    "    # Load the trained Random Forest model\n",
    "    model = joblib.load('random_forest_model.joblib')\n",
    "\n",
    "    # Load the label encoder\n",
    "    label_encoder = joblib.load('label_encoder.joblib')\n",
    "\n",
    "    # Convert the input features to a DataFrame (adjust as necessary)\n",
    "    input_data = pd.DataFrame([input_features], columns=['Category', 'TransactionAmount', 'AnomalyScore', 'Amount', 'AccountBalance', 'SuspiciousFlag', 'Hour', 'gap'])\n",
    "    \n",
    "    # Transform the categorical data\n",
    "    input_data['Category'] = label_encoder.transform(input_data['Category'])\n",
    "\n",
    "    # Make a prediction\n",
    "    prediction = model.predict(input_data)\n",
    "    \n",
    "    return prediction[0]\n",
    "\n",
    "input_features = ('Travel', 0.41, 0.68, 0.53, 0.68000, 1, 1, 2)\n",
    "prediction = predict_fraud(input_features)\n",
    "print(\"Predicted Fraud Indicator:\", prediction)\n"
   ]
  },
  {
   "cell_type": "markdown",
   "metadata": {},
   "source": []
  },
  {
   "cell_type": "code",
   "execution_count": 76,
   "metadata": {},
   "outputs": [
    {
     "name": "stdout",
     "output_type": "stream",
     "text": [
      "              precision    recall  f1-score   support\n",
      "\n",
      "           0       0.96      1.00      0.98       193\n",
      "           1       0.00      0.00      0.00         7\n",
      "\n",
      "    accuracy                           0.96       200\n",
      "   macro avg       0.48      0.50      0.49       200\n",
      "weighted avg       0.93      0.96      0.95       200\n",
      "\n",
      "                   importance\n",
      "Amount               0.177440\n",
      "AccountBalance       0.169439\n",
      "AnomalyScore         0.167685\n",
      "gap                  0.158237\n",
      "TransactionAmount    0.154478\n",
      "Hour                 0.104737\n",
      "Category             0.048912\n",
      "SuspiciousFlag       0.019073\n"
     ]
    }
   ],
   "source": [
    "from sklearn.model_selection import train_test_split\n",
    "from sklearn.ensemble import RandomForestClassifier\n",
    "from sklearn.metrics import classification_report\n",
    "from sklearn.preprocessing import StandardScaler\n",
    "\n",
    "# Split the data into train and test sets\n",
    "X_train, X_test, y_train, y_test = train_test_split(X, Y, test_size=0.2, random_state=42)\n",
    "\n",
    "# Standardize the features (important for models that are sensitive to the scale of features)\n",
    "scaler = StandardScaler()\n",
    "X_train_scaled = scaler.fit_transform(X_train)\n",
    "X_test_scaled = scaler.transform(X_test)\n",
    "\n",
    "# Initialize and train the model\n",
    "model = RandomForestClassifier(random_state=42)\n",
    "model.fit(X_train_scaled, y_train)\n",
    "\n",
    "# Make predictions\n",
    "predictions = model.predict(X_test_scaled)\n",
    "\n",
    "# Evaluate the model\n",
    "print(classification_report(y_test, predictions))\n",
    "\n",
    "# Get feature importances\n",
    "feature_importances = pd.DataFrame(model.feature_importances_, index=X.columns, columns=['importance']).sort_values('importance', ascending=False)\n",
    "print(feature_importances)\n"
   ]
  },
  {
   "cell_type": "code",
   "execution_count": 108,
   "metadata": {},
   "outputs": [
    {
     "name": "stdout",
     "output_type": "stream",
     "text": [
      "Predicted Fraud Indicator: 0\n",
      "Prediction Probability for Class 1: 0.08\n"
     ]
    }
   ],
   "source": [
    "import joblib\n",
    "import pandas as pd\n",
    "\n",
    "def predict_fraud(input_features):\n",
    "    # Load the trained Random Forest model\n",
    "    model = joblib.load('random_forest_model.joblib')\n",
    "\n",
    "    # Load the label encoder\n",
    "    label_encoder = joblib.load('label_encoder.joblib')\n",
    "\n",
    "    # Convert the input features to a DataFrame (adjust as necessary)\n",
    "    input_data = pd.DataFrame([input_features], columns=['Category', 'TransactionAmount', 'AnomalyScore', 'Amount', 'AccountBalance', 'SuspiciousFlag', 'Hour', 'gap'])\n",
    "    \n",
    "    # Transform the categorical data\n",
    "    input_data['Category'] = label_encoder.transform(input_data['Category'])\n",
    "\n",
    "    # Make a prediction\n",
    "    prediction = model.predict(input_data)\n",
    "    prediction_prob = model.predict_proba(input_data)\n",
    "    \n",
    "    return prediction[0], prediction_prob[0][1]\n",
    "\n",
    "input_features = ('Travel', 0.41, 0.68, 0.53, 0.68000, 1, 1, 2)\n",
    "prediction, prediction_prob = predict_fraud(input_features)\n",
    "print(\"Predicted Fraud Indicator:\", prediction)\n",
    "print(\"Prediction Probability for Class 1:\", prediction_prob)\n"
   ]
  },
  {
   "cell_type": "code",
   "execution_count": 139,
   "metadata": {},
   "outputs": [
    {
     "name": "stdout",
     "output_type": "stream",
     "text": [
      "Predicted Fraud Indicator: 0\n",
      "Prediction Probability for Class 1: 0.16666666666666666\n"
     ]
    }
   ],
   "source": [
    "input_features = ('Travel', 1000, 0.9, 5000, 500, 1, 1, 50)\n",
    "prediction, prediction_prob = predict_fraud(input_features)\n",
    "print(\"Predicted Fraud Indicator:\", prediction)\n",
    "print(\"Prediction Probability for Class 1:\", prediction_prob)\n"
   ]
  },
  {
   "cell_type": "code",
   "execution_count": 109,
   "metadata": {},
   "outputs": [
    {
     "ename": "ValueError",
     "evalue": "Found input variables with inconsistent numbers of samples: [800, 1337]",
     "output_type": "error",
     "traceback": [
      "\u001b[1;31m---------------------------------------------------------------------------\u001b[0m",
      "\u001b[1;31mValueError\u001b[0m                                Traceback (most recent call last)",
      "Cell \u001b[1;32mIn[109], line 13\u001b[0m\n\u001b[0;32m     11\u001b[0m \u001b[38;5;66;03m# Oversample the minority class using SMOTE\u001b[39;00m\n\u001b[0;32m     12\u001b[0m smote \u001b[38;5;241m=\u001b[39m SMOTE(random_state\u001b[38;5;241m=\u001b[39m\u001b[38;5;241m42\u001b[39m)\n\u001b[1;32m---> 13\u001b[0m X_train_scaled_resampled, y_train_resampled \u001b[38;5;241m=\u001b[39m smote\u001b[38;5;241m.\u001b[39mfit_resample(X_train_scaled, y_train)\n\u001b[0;32m     15\u001b[0m \u001b[38;5;66;03m# Train the model\u001b[39;00m\n\u001b[0;32m     16\u001b[0m model\u001b[38;5;241m.\u001b[39mfit(X_train_scaled_resampled, y_train_resampled)\n",
      "File \u001b[1;32mC:\\LibFolder\\Lib\\site-packages\\imblearn\\base.py:203\u001b[0m, in \u001b[0;36mBaseSampler.fit_resample\u001b[1;34m(self, X, y)\u001b[0m\n\u001b[0;32m    182\u001b[0m \u001b[38;5;250m\u001b[39m\u001b[38;5;124;03m\"\"\"Resample the dataset.\u001b[39;00m\n\u001b[0;32m    183\u001b[0m \n\u001b[0;32m    184\u001b[0m \u001b[38;5;124;03mParameters\u001b[39;00m\n\u001b[1;32m   (...)\u001b[0m\n\u001b[0;32m    200\u001b[0m \u001b[38;5;124;03m    The corresponding label of `X_resampled`.\u001b[39;00m\n\u001b[0;32m    201\u001b[0m \u001b[38;5;124;03m\"\"\"\u001b[39;00m\n\u001b[0;32m    202\u001b[0m \u001b[38;5;28mself\u001b[39m\u001b[38;5;241m.\u001b[39m_validate_params()\n\u001b[1;32m--> 203\u001b[0m \u001b[38;5;28;01mreturn\u001b[39;00m \u001b[38;5;28msuper\u001b[39m()\u001b[38;5;241m.\u001b[39mfit_resample(X, y)\n",
      "File \u001b[1;32mC:\\LibFolder\\Lib\\site-packages\\imblearn\\base.py:82\u001b[0m, in \u001b[0;36mSamplerMixin.fit_resample\u001b[1;34m(self, X, y)\u001b[0m\n\u001b[0;32m     80\u001b[0m check_classification_targets(y)\n\u001b[0;32m     81\u001b[0m arrays_transformer \u001b[38;5;241m=\u001b[39m ArraysTransformer(X, y)\n\u001b[1;32m---> 82\u001b[0m X, y, binarize_y \u001b[38;5;241m=\u001b[39m \u001b[38;5;28mself\u001b[39m\u001b[38;5;241m.\u001b[39m_check_X_y(X, y)\n\u001b[0;32m     84\u001b[0m \u001b[38;5;28mself\u001b[39m\u001b[38;5;241m.\u001b[39msampling_strategy_ \u001b[38;5;241m=\u001b[39m check_sampling_strategy(\n\u001b[0;32m     85\u001b[0m     \u001b[38;5;28mself\u001b[39m\u001b[38;5;241m.\u001b[39msampling_strategy, y, \u001b[38;5;28mself\u001b[39m\u001b[38;5;241m.\u001b[39m_sampling_type\n\u001b[0;32m     86\u001b[0m )\n\u001b[0;32m     88\u001b[0m output \u001b[38;5;241m=\u001b[39m \u001b[38;5;28mself\u001b[39m\u001b[38;5;241m.\u001b[39m_fit_resample(X, y)\n",
      "File \u001b[1;32mC:\\LibFolder\\Lib\\site-packages\\imblearn\\base.py:156\u001b[0m, in \u001b[0;36mBaseSampler._check_X_y\u001b[1;34m(self, X, y, accept_sparse)\u001b[0m\n\u001b[0;32m    154\u001b[0m     accept_sparse \u001b[38;5;241m=\u001b[39m [\u001b[38;5;124m\"\u001b[39m\u001b[38;5;124mcsr\u001b[39m\u001b[38;5;124m\"\u001b[39m, \u001b[38;5;124m\"\u001b[39m\u001b[38;5;124mcsc\u001b[39m\u001b[38;5;124m\"\u001b[39m]\n\u001b[0;32m    155\u001b[0m y, binarize_y \u001b[38;5;241m=\u001b[39m check_target_type(y, indicate_one_vs_all\u001b[38;5;241m=\u001b[39m\u001b[38;5;28;01mTrue\u001b[39;00m)\n\u001b[1;32m--> 156\u001b[0m X, y \u001b[38;5;241m=\u001b[39m \u001b[38;5;28mself\u001b[39m\u001b[38;5;241m.\u001b[39m_validate_data(X, y, reset\u001b[38;5;241m=\u001b[39m\u001b[38;5;28;01mTrue\u001b[39;00m, accept_sparse\u001b[38;5;241m=\u001b[39maccept_sparse)\n\u001b[0;32m    157\u001b[0m \u001b[38;5;28;01mreturn\u001b[39;00m X, y, binarize_y\n",
      "File \u001b[1;32mC:\\LibFolder\\Lib\\site-packages\\sklearn\\base.py:584\u001b[0m, in \u001b[0;36mBaseEstimator._validate_data\u001b[1;34m(self, X, y, reset, validate_separately, **check_params)\u001b[0m\n\u001b[0;32m    582\u001b[0m         y \u001b[38;5;241m=\u001b[39m check_array(y, input_name\u001b[38;5;241m=\u001b[39m\u001b[38;5;124m\"\u001b[39m\u001b[38;5;124my\u001b[39m\u001b[38;5;124m\"\u001b[39m, \u001b[38;5;241m*\u001b[39m\u001b[38;5;241m*\u001b[39mcheck_y_params)\n\u001b[0;32m    583\u001b[0m     \u001b[38;5;28;01melse\u001b[39;00m:\n\u001b[1;32m--> 584\u001b[0m         X, y \u001b[38;5;241m=\u001b[39m check_X_y(X, y, \u001b[38;5;241m*\u001b[39m\u001b[38;5;241m*\u001b[39mcheck_params)\n\u001b[0;32m    585\u001b[0m     out \u001b[38;5;241m=\u001b[39m X, y\n\u001b[0;32m    587\u001b[0m \u001b[38;5;28;01mif\u001b[39;00m \u001b[38;5;129;01mnot\u001b[39;00m no_val_X \u001b[38;5;129;01mand\u001b[39;00m check_params\u001b[38;5;241m.\u001b[39mget(\u001b[38;5;124m\"\u001b[39m\u001b[38;5;124mensure_2d\u001b[39m\u001b[38;5;124m\"\u001b[39m, \u001b[38;5;28;01mTrue\u001b[39;00m):\n",
      "File \u001b[1;32mC:\\LibFolder\\Lib\\site-packages\\sklearn\\utils\\validation.py:1124\u001b[0m, in \u001b[0;36mcheck_X_y\u001b[1;34m(X, y, accept_sparse, accept_large_sparse, dtype, order, copy, force_all_finite, ensure_2d, allow_nd, multi_output, ensure_min_samples, ensure_min_features, y_numeric, estimator)\u001b[0m\n\u001b[0;32m   1106\u001b[0m X \u001b[38;5;241m=\u001b[39m check_array(\n\u001b[0;32m   1107\u001b[0m     X,\n\u001b[0;32m   1108\u001b[0m     accept_sparse\u001b[38;5;241m=\u001b[39maccept_sparse,\n\u001b[1;32m   (...)\u001b[0m\n\u001b[0;32m   1119\u001b[0m     input_name\u001b[38;5;241m=\u001b[39m\u001b[38;5;124m\"\u001b[39m\u001b[38;5;124mX\u001b[39m\u001b[38;5;124m\"\u001b[39m,\n\u001b[0;32m   1120\u001b[0m )\n\u001b[0;32m   1122\u001b[0m y \u001b[38;5;241m=\u001b[39m _check_y(y, multi_output\u001b[38;5;241m=\u001b[39mmulti_output, y_numeric\u001b[38;5;241m=\u001b[39my_numeric, estimator\u001b[38;5;241m=\u001b[39mestimator)\n\u001b[1;32m-> 1124\u001b[0m check_consistent_length(X, y)\n\u001b[0;32m   1126\u001b[0m \u001b[38;5;28;01mreturn\u001b[39;00m X, y\n",
      "File \u001b[1;32mC:\\LibFolder\\Lib\\site-packages\\sklearn\\utils\\validation.py:397\u001b[0m, in \u001b[0;36mcheck_consistent_length\u001b[1;34m(*arrays)\u001b[0m\n\u001b[0;32m    395\u001b[0m uniques \u001b[38;5;241m=\u001b[39m np\u001b[38;5;241m.\u001b[39munique(lengths)\n\u001b[0;32m    396\u001b[0m \u001b[38;5;28;01mif\u001b[39;00m \u001b[38;5;28mlen\u001b[39m(uniques) \u001b[38;5;241m>\u001b[39m \u001b[38;5;241m1\u001b[39m:\n\u001b[1;32m--> 397\u001b[0m     \u001b[38;5;28;01mraise\u001b[39;00m \u001b[38;5;167;01mValueError\u001b[39;00m(\n\u001b[0;32m    398\u001b[0m         \u001b[38;5;124m\"\u001b[39m\u001b[38;5;124mFound input variables with inconsistent numbers of samples: \u001b[39m\u001b[38;5;132;01m%r\u001b[39;00m\u001b[38;5;124m\"\u001b[39m\n\u001b[0;32m    399\u001b[0m         \u001b[38;5;241m%\u001b[39m [\u001b[38;5;28mint\u001b[39m(l) \u001b[38;5;28;01mfor\u001b[39;00m l \u001b[38;5;129;01min\u001b[39;00m lengths]\n\u001b[0;32m    400\u001b[0m     )\n",
      "\u001b[1;31mValueError\u001b[0m: Found input variables with inconsistent numbers of samples: [800, 1337]"
     ]
    }
   ],
   "source": [
    "from imblearn.over_sampling import SMOTE\n",
    "from sklearn.utils.class_weight import compute_class_weight\n",
    "\n",
    "# Compute class weights\n",
    "weights = compute_class_weight('balanced', classes=[0, 1], y=y_train)\n",
    "class_weights = {i: weights[i] for i in range(2)}\n",
    "\n",
    "# Initialize and train the model with class weights\n",
    "model = RandomForestClassifier(random_state=42, class_weight=class_weights)\n",
    "\n",
    "# Oversample the minority class using SMOTE\n",
    "smote = SMOTE(random_state=42)\n",
    "X_train_scaled_resampled, y_train_resampled = smote.fit_resample(X_train_scaled, y_train)\n",
    "\n",
    "# Train the model\n",
    "model.fit(X_train_scaled_resampled, y_train_resampled)\n",
    "\n",
    "# Make predictions\n",
    "predictions = model.predict(X_test_scaled)\n",
    "\n",
    "# Evaluate the model\n",
    "print(classification_report(y_test, predictions))\n"
   ]
  },
  {
   "cell_type": "code",
   "execution_count": 111,
   "metadata": {},
   "outputs": [],
   "source": [
    "from sklearn.model_selection import train_test_split\n",
    "\n",
    "X_train, X_test, y_train, y_test = train_test_split(X, Y, test_size=0.2, random_state=42)\n"
   ]
  },
  {
   "cell_type": "code",
   "execution_count": 112,
   "metadata": {},
   "outputs": [],
   "source": [
    "from sklearn.preprocessing import StandardScaler\n",
    "\n",
    "scaler = StandardScaler()\n",
    "X_train_scaled = scaler.fit_transform(X_train)\n",
    "X_test_scaled = scaler.transform(X_test)\n"
   ]
  },
  {
   "cell_type": "code",
   "execution_count": 113,
   "metadata": {},
   "outputs": [
    {
     "name": "stdout",
     "output_type": "stream",
     "text": [
      "Shape of X_train_scaled: (800, 8)\n",
      "Shape of y_train: (800,)\n"
     ]
    }
   ],
   "source": [
    "print(\"Shape of X_train_scaled:\", X_train_scaled.shape)\n",
    "print(\"Shape of y_train:\", y_train.shape)\n"
   ]
  },
  {
   "cell_type": "code",
   "execution_count": 115,
   "metadata": {},
   "outputs": [
    {
     "name": "stdout",
     "output_type": "stream",
     "text": [
      "              precision    recall  f1-score   support\n",
      "\n",
      "           0       0.96      1.00      0.98       193\n",
      "           1       0.00      0.00      0.00         7\n",
      "\n",
      "    accuracy                           0.96       200\n",
      "   macro avg       0.48      0.50      0.49       200\n",
      "weighted avg       0.93      0.96      0.95       200\n",
      "\n",
      "                   importance\n",
      "Amount               0.174159\n",
      "gap                  0.171410\n",
      "AnomalyScore         0.168839\n",
      "TransactionAmount    0.156643\n",
      "AccountBalance       0.137127\n",
      "Hour                 0.108440\n",
      "Category             0.061263\n",
      "SuspiciousFlag       0.022118\n"
     ]
    }
   ],
   "source": [
    "from imblearn.over_sampling import SMOTE\n",
    "from sklearn.ensemble import RandomForestClassifier\n",
    "from sklearn.metrics import classification_report\n",
    "\n",
    "# Apply SMOTE to the training data\n",
    "smote = SMOTE(random_state=42)\n",
    "X_train_scaled_resampled, y_train_resampled = smote.fit_resample(X_train_scaled, y_train)\n",
    "\n",
    "\n",
    "class_weights = {0: 1, 1: 10}\n",
    "model = RandomForestClassifier(random_state=42, class_weight=class_weights)\n",
    "model.fit(X_train_scaled, y_train)\n",
    "\n",
    "\n",
    "# Make predictions on the test data\n",
    "predictions = model.predict(X_test_scaled)\n",
    "\n",
    "# Evaluate the model\n",
    "report = classification_report(y_test, predictions)\n",
    "print(report)\n",
    "\n",
    "# Get feature importances\n",
    "feature_importances = pd.DataFrame(model.feature_importances_, index=X_train.columns, columns=['importance']).sort_values('importance', ascending=False)\n",
    "print(feature_importances)\n"
   ]
  },
  {
   "cell_type": "code",
   "execution_count": 118,
   "metadata": {},
   "outputs": [
    {
     "ename": "ModuleNotFoundError",
     "evalue": "No module named 'xgboost'",
     "output_type": "error",
     "traceback": [
      "\u001b[1;31m---------------------------------------------------------------------------\u001b[0m",
      "\u001b[1;31mModuleNotFoundError\u001b[0m                       Traceback (most recent call last)",
      "Cell \u001b[1;32mIn[118], line 10\u001b[0m\n\u001b[0;32m      7\u001b[0m X_train_scaled_resampled, y_train_resampled \u001b[38;5;241m=\u001b[39m smote\u001b[38;5;241m.\u001b[39mfit_resample(X_train_scaled, y_train)\n\u001b[0;32m      9\u001b[0m model\u001b[38;5;241m.\u001b[39mfit(X_train_scaled_resampled, y_train_resampled)\n\u001b[1;32m---> 10\u001b[0m \u001b[38;5;28;01mfrom\u001b[39;00m \u001b[38;5;21;01mxgboost\u001b[39;00m \u001b[38;5;28;01mimport\u001b[39;00m XGBClassifier\n\u001b[0;32m     12\u001b[0m model \u001b[38;5;241m=\u001b[39m XGBClassifier(scale_pos_weight\u001b[38;5;241m=\u001b[39m\u001b[38;5;241m50\u001b[39m, random_state\u001b[38;5;241m=\u001b[39m\u001b[38;5;241m42\u001b[39m)\n\u001b[0;32m     13\u001b[0m model\u001b[38;5;241m.\u001b[39mfit(X_train_scaled, y_train)\n",
      "\u001b[1;31mModuleNotFoundError\u001b[0m: No module named 'xgboost'"
     ]
    }
   ],
   "source": [
    "class_weights = {0: 1, 1: 50}  # or a different value that suits your problem\n",
    "model = RandomForestClassifier(random_state=42, class_weight=class_weights)\n",
    "model.fit(X_train_scaled, y_train)\n",
    "from imblearn.over_sampling import BorderlineSMOTE, SVMSMOTE, ADASYN\n",
    "\n",
    "smote = BorderlineSMOTE(random_state=42)\n",
    "X_train_scaled_resampled, y_train_resampled = smote.fit_resample(X_train_scaled, y_train)\n",
    "\n",
    "model.fit(X_train_scaled_resampled, y_train_resampled)\n",
    "from xgboost import XGBClassifier\n",
    "\n",
    "model = XGBClassifier(scale_pos_weight=50, random_state=42)\n",
    "model.fit(X_train_scaled, y_train)\n"
   ]
  },
  {
   "cell_type": "code",
   "execution_count": 123,
   "metadata": {},
   "outputs": [
    {
     "name": "stdout",
     "output_type": "stream",
     "text": [
      "[LightGBM] [Info] Number of positive: 38, number of negative: 762\n",
      "[LightGBM] [Info] Auto-choosing col-wise multi-threading, the overhead of testing was 0.000186 seconds.\n",
      "You can set `force_col_wise=true` to remove the overhead.\n",
      "[LightGBM] [Info] Total Bins 1306\n",
      "[LightGBM] [Info] Number of data points in the train set: 800, number of used features: 8\n",
      "[LightGBM] [Info] [binary:BoostFromScore]: pavg=0.047500 -> initscore=-2.998360\n",
      "[LightGBM] [Info] Start training from score -2.998360\n",
      "[LightGBM] [Warning] No further splits with positive gain, best gain: -inf\n",
      "[LightGBM] [Warning] No further splits with positive gain, best gain: -inf\n",
      "[LightGBM] [Warning] No further splits with positive gain, best gain: -inf\n",
      "[LightGBM] [Warning] No further splits with positive gain, best gain: -inf\n",
      "[LightGBM] [Warning] No further splits with positive gain, best gain: -inf\n",
      "[LightGBM] [Warning] No further splits with positive gain, best gain: -inf\n",
      "[LightGBM] [Warning] No further splits with positive gain, best gain: -inf\n",
      "[LightGBM] [Warning] No further splits with positive gain, best gain: -inf\n",
      "[LightGBM] [Warning] No further splits with positive gain, best gain: -inf\n",
      "[LightGBM] [Warning] No further splits with positive gain, best gain: -inf\n",
      "[LightGBM] [Warning] No further splits with positive gain, best gain: -inf\n",
      "[LightGBM] [Warning] No further splits with positive gain, best gain: -inf\n",
      "[LightGBM] [Warning] No further splits with positive gain, best gain: -inf\n",
      "[LightGBM] [Warning] No further splits with positive gain, best gain: -inf\n",
      "[LightGBM] [Warning] No further splits with positive gain, best gain: -inf\n",
      "[LightGBM] [Warning] No further splits with positive gain, best gain: -inf\n",
      "[LightGBM] [Warning] No further splits with positive gain, best gain: -inf\n",
      "[LightGBM] [Warning] No further splits with positive gain, best gain: -inf\n",
      "[LightGBM] [Warning] No further splits with positive gain, best gain: -inf\n",
      "[LightGBM] [Warning] No further splits with positive gain, best gain: -inf\n",
      "[LightGBM] [Warning] No further splits with positive gain, best gain: -inf\n",
      "[LightGBM] [Warning] No further splits with positive gain, best gain: -inf\n",
      "[LightGBM] [Warning] No further splits with positive gain, best gain: -inf\n",
      "[LightGBM] [Warning] No further splits with positive gain, best gain: -inf\n",
      "[LightGBM] [Warning] No further splits with positive gain, best gain: -inf\n",
      "[LightGBM] [Warning] No further splits with positive gain, best gain: -inf\n",
      "[LightGBM] [Warning] No further splits with positive gain, best gain: -inf\n",
      "[LightGBM] [Warning] No further splits with positive gain, best gain: -inf\n",
      "[LightGBM] [Warning] No further splits with positive gain, best gain: -inf\n",
      "[LightGBM] [Warning] No further splits with positive gain, best gain: -inf\n",
      "[LightGBM] [Warning] No further splits with positive gain, best gain: -inf\n",
      "[LightGBM] [Warning] No further splits with positive gain, best gain: -inf\n",
      "[LightGBM] [Warning] No further splits with positive gain, best gain: -inf\n",
      "[LightGBM] [Warning] No further splits with positive gain, best gain: -inf\n",
      "[LightGBM] [Warning] No further splits with positive gain, best gain: -inf\n",
      "[LightGBM] [Warning] No further splits with positive gain, best gain: -inf\n",
      "[LightGBM] [Warning] No further splits with positive gain, best gain: -inf\n",
      "[LightGBM] [Warning] No further splits with positive gain, best gain: -inf\n",
      "[LightGBM] [Warning] No further splits with positive gain, best gain: -inf\n",
      "[LightGBM] [Warning] No further splits with positive gain, best gain: -inf\n",
      "[LightGBM] [Warning] No further splits with positive gain, best gain: -inf\n",
      "[LightGBM] [Warning] No further splits with positive gain, best gain: -inf\n",
      "[LightGBM] [Warning] No further splits with positive gain, best gain: -inf\n",
      "[LightGBM] [Warning] No further splits with positive gain, best gain: -inf\n",
      "[LightGBM] [Warning] No further splits with positive gain, best gain: -inf\n",
      "[LightGBM] [Warning] No further splits with positive gain, best gain: -inf\n",
      "[LightGBM] [Warning] No further splits with positive gain, best gain: -inf\n",
      "[LightGBM] [Warning] No further splits with positive gain, best gain: -inf\n",
      "[LightGBM] [Warning] No further splits with positive gain, best gain: -inf\n",
      "[LightGBM] [Warning] No further splits with positive gain, best gain: -inf\n",
      "[LightGBM] [Warning] No further splits with positive gain, best gain: -inf\n",
      "[LightGBM] [Warning] No further splits with positive gain, best gain: -inf\n",
      "[LightGBM] [Warning] No further splits with positive gain, best gain: -inf\n",
      "[LightGBM] [Warning] No further splits with positive gain, best gain: -inf\n",
      "[LightGBM] [Warning] No further splits with positive gain, best gain: -inf\n",
      "[LightGBM] [Warning] No further splits with positive gain, best gain: -inf\n",
      "[LightGBM] [Warning] No further splits with positive gain, best gain: -inf\n",
      "[LightGBM] [Warning] No further splits with positive gain, best gain: -inf\n",
      "[LightGBM] [Warning] No further splits with positive gain, best gain: -inf\n",
      "[LightGBM] [Warning] No further splits with positive gain, best gain: -inf\n",
      "[LightGBM] [Warning] No further splits with positive gain, best gain: -inf\n",
      "[LightGBM] [Warning] No further splits with positive gain, best gain: -inf\n",
      "[LightGBM] [Warning] No further splits with positive gain, best gain: -inf\n",
      "[LightGBM] [Warning] No further splits with positive gain, best gain: -inf\n",
      "[LightGBM] [Warning] No further splits with positive gain, best gain: -inf\n",
      "[LightGBM] [Warning] No further splits with positive gain, best gain: -inf\n",
      "[LightGBM] [Warning] No further splits with positive gain, best gain: -inf\n",
      "[LightGBM] [Warning] No further splits with positive gain, best gain: -inf\n",
      "[LightGBM] [Warning] No further splits with positive gain, best gain: -inf\n",
      "[LightGBM] [Warning] No further splits with positive gain, best gain: -inf\n",
      "[LightGBM] [Warning] No further splits with positive gain, best gain: -inf\n",
      "[LightGBM] [Warning] No further splits with positive gain, best gain: -inf\n",
      "[LightGBM] [Warning] No further splits with positive gain, best gain: -inf\n",
      "              precision    recall  f1-score   support\n",
      "\n",
      "           0       0.96      0.84      0.90       193\n",
      "           1       0.03      0.14      0.05         7\n",
      "\n",
      "    accuracy                           0.82       200\n",
      "   macro avg       0.50      0.49      0.48       200\n",
      "weighted avg       0.93      0.82      0.87       200\n",
      "\n"
     ]
    }
   ],
   "source": [
    "from lightgbm import LGBMClassifier\n",
    "\n",
    "model = LGBMClassifier(scale_pos_weight=50, \n",
    "                       max_depth=3, \n",
    "                       n_estimators=100, \n",
    "                       learning_rate=0.1, \n",
    "                       random_state=42)\n",
    "model.fit(X_train_scaled, y_train)\n",
    "\n",
    "predictions = model.predict(X_test_scaled)\n",
    "print(classification_report(y_test, predictions))\n",
    "X_train_scaled"
   ]
  },
  {
   "cell_type": "code",
   "execution_count": 124,
   "metadata": {},
   "outputs": [
    {
     "data": {
      "text/plain": [
       "<lightgbm.basic.Booster at 0x1d81237f8d0>"
      ]
     },
     "execution_count": 124,
     "metadata": {},
     "output_type": "execute_result"
    }
   ],
   "source": [
    "# Save the model\n",
    "model.booster_.save_model('lightgbm_model.txt')\n"
   ]
  },
  {
   "cell_type": "code",
   "execution_count": 130,
   "metadata": {},
   "outputs": [
    {
     "ename": "NameError",
     "evalue": "name 'default_value' is not defined",
     "output_type": "error",
     "traceback": [
      "\u001b[1;31m---------------------------------------------------------------------------\u001b[0m",
      "\u001b[1;31mValueError\u001b[0m                                Traceback (most recent call last)",
      "Cell \u001b[1;32mIn[130], line 18\u001b[0m\n\u001b[0;32m     16\u001b[0m \u001b[38;5;28;01mtry\u001b[39;00m:\n\u001b[0;32m     17\u001b[0m     \u001b[38;5;66;03m# Apply the label encoder to the 'Category' feature\u001b[39;00m\n\u001b[1;32m---> 18\u001b[0m     category_encoded \u001b[38;5;241m=\u001b[39m label_encoder\u001b[38;5;241m.\u001b[39mtransform([input_features[\u001b[38;5;241m0\u001b[39m]])[\u001b[38;5;241m0\u001b[39m]\n\u001b[0;32m     19\u001b[0m \u001b[38;5;28;01mexcept\u001b[39;00m \u001b[38;5;167;01mValueError\u001b[39;00m:\n\u001b[0;32m     20\u001b[0m     \u001b[38;5;66;03m# Handle unknown categories here. For example, you can assign a default value or raise an error.\u001b[39;00m\n",
      "File \u001b[1;32mC:\\LibFolder\\Lib\\site-packages\\sklearn\\utils\\_set_output.py:140\u001b[0m, in \u001b[0;36m_wrap_method_output.<locals>.wrapped\u001b[1;34m(self, X, *args, **kwargs)\u001b[0m\n\u001b[0;32m    138\u001b[0m \u001b[38;5;129m@wraps\u001b[39m(f)\n\u001b[0;32m    139\u001b[0m \u001b[38;5;28;01mdef\u001b[39;00m \u001b[38;5;21mwrapped\u001b[39m(\u001b[38;5;28mself\u001b[39m, X, \u001b[38;5;241m*\u001b[39margs, \u001b[38;5;241m*\u001b[39m\u001b[38;5;241m*\u001b[39mkwargs):\n\u001b[1;32m--> 140\u001b[0m     data_to_wrap \u001b[38;5;241m=\u001b[39m f(\u001b[38;5;28mself\u001b[39m, X, \u001b[38;5;241m*\u001b[39margs, \u001b[38;5;241m*\u001b[39m\u001b[38;5;241m*\u001b[39mkwargs)\n\u001b[0;32m    141\u001b[0m     \u001b[38;5;28;01mif\u001b[39;00m \u001b[38;5;28misinstance\u001b[39m(data_to_wrap, \u001b[38;5;28mtuple\u001b[39m):\n\u001b[0;32m    142\u001b[0m         \u001b[38;5;66;03m# only wrap the first output for cross decomposition\u001b[39;00m\n",
      "File \u001b[1;32mC:\\LibFolder\\Lib\\site-packages\\sklearn\\preprocessing\\_label.py:134\u001b[0m, in \u001b[0;36mLabelEncoder.transform\u001b[1;34m(self, y)\u001b[0m\n\u001b[0;32m    133\u001b[0m check_is_fitted(\u001b[38;5;28mself\u001b[39m)\n\u001b[1;32m--> 134\u001b[0m y \u001b[38;5;241m=\u001b[39m column_or_1d(y, dtype\u001b[38;5;241m=\u001b[39m\u001b[38;5;28mself\u001b[39m\u001b[38;5;241m.\u001b[39mclasses_\u001b[38;5;241m.\u001b[39mdtype, warn\u001b[38;5;241m=\u001b[39m\u001b[38;5;28;01mTrue\u001b[39;00m)\n\u001b[0;32m    135\u001b[0m \u001b[38;5;66;03m# transform of empty array is empty array\u001b[39;00m\n",
      "File \u001b[1;32mC:\\LibFolder\\Lib\\site-packages\\sklearn\\utils\\validation.py:1179\u001b[0m, in \u001b[0;36mcolumn_or_1d\u001b[1;34m(y, dtype, warn)\u001b[0m\n\u001b[0;32m   1178\u001b[0m xp, _ \u001b[38;5;241m=\u001b[39m get_namespace(y)\n\u001b[1;32m-> 1179\u001b[0m y \u001b[38;5;241m=\u001b[39m check_array(\n\u001b[0;32m   1180\u001b[0m     y,\n\u001b[0;32m   1181\u001b[0m     ensure_2d\u001b[38;5;241m=\u001b[39m\u001b[38;5;28;01mFalse\u001b[39;00m,\n\u001b[0;32m   1182\u001b[0m     dtype\u001b[38;5;241m=\u001b[39mdtype,\n\u001b[0;32m   1183\u001b[0m     input_name\u001b[38;5;241m=\u001b[39m\u001b[38;5;124m\"\u001b[39m\u001b[38;5;124my\u001b[39m\u001b[38;5;124m\"\u001b[39m,\n\u001b[0;32m   1184\u001b[0m     force_all_finite\u001b[38;5;241m=\u001b[39m\u001b[38;5;28;01mFalse\u001b[39;00m,\n\u001b[0;32m   1185\u001b[0m     ensure_min_samples\u001b[38;5;241m=\u001b[39m\u001b[38;5;241m0\u001b[39m,\n\u001b[0;32m   1186\u001b[0m )\n\u001b[0;32m   1188\u001b[0m shape \u001b[38;5;241m=\u001b[39m y\u001b[38;5;241m.\u001b[39mshape\n",
      "File \u001b[1;32mC:\\LibFolder\\Lib\\site-packages\\sklearn\\utils\\validation.py:877\u001b[0m, in \u001b[0;36mcheck_array\u001b[1;34m(array, accept_sparse, accept_large_sparse, dtype, order, copy, force_all_finite, ensure_2d, allow_nd, ensure_min_samples, ensure_min_features, estimator, input_name)\u001b[0m\n\u001b[0;32m    870\u001b[0m         _assert_all_finite(\n\u001b[0;32m    871\u001b[0m             array,\n\u001b[0;32m    872\u001b[0m             allow_nan\u001b[38;5;241m=\u001b[39m\u001b[38;5;28;01mFalse\u001b[39;00m,\n\u001b[1;32m   (...)\u001b[0m\n\u001b[0;32m    875\u001b[0m             input_name\u001b[38;5;241m=\u001b[39minput_name,\n\u001b[0;32m    876\u001b[0m         )\n\u001b[1;32m--> 877\u001b[0m     array \u001b[38;5;241m=\u001b[39m xp\u001b[38;5;241m.\u001b[39mastype(array, dtype, copy\u001b[38;5;241m=\u001b[39m\u001b[38;5;28;01mFalse\u001b[39;00m)\n\u001b[0;32m    878\u001b[0m \u001b[38;5;28;01melse\u001b[39;00m:\n",
      "File \u001b[1;32mC:\\LibFolder\\Lib\\site-packages\\sklearn\\utils\\_array_api.py:68\u001b[0m, in \u001b[0;36m_NumPyApiWrapper.astype\u001b[1;34m(self, x, dtype, copy, casting)\u001b[0m\n\u001b[0;32m     66\u001b[0m \u001b[38;5;28;01mdef\u001b[39;00m \u001b[38;5;21mastype\u001b[39m(\u001b[38;5;28mself\u001b[39m, x, dtype, \u001b[38;5;241m*\u001b[39m, copy\u001b[38;5;241m=\u001b[39m\u001b[38;5;28;01mTrue\u001b[39;00m, casting\u001b[38;5;241m=\u001b[39m\u001b[38;5;124m\"\u001b[39m\u001b[38;5;124munsafe\u001b[39m\u001b[38;5;124m\"\u001b[39m):\n\u001b[0;32m     67\u001b[0m     \u001b[38;5;66;03m# astype is not defined in the top level NumPy namespace\u001b[39;00m\n\u001b[1;32m---> 68\u001b[0m     \u001b[38;5;28;01mreturn\u001b[39;00m x\u001b[38;5;241m.\u001b[39mastype(dtype, copy\u001b[38;5;241m=\u001b[39mcopy, casting\u001b[38;5;241m=\u001b[39mcasting)\n",
      "\u001b[1;31mValueError\u001b[0m: invalid literal for int() with base 10: 'Travel'",
      "\nDuring handling of the above exception, another exception occurred:\n",
      "\u001b[1;31mNameError\u001b[0m                                 Traceback (most recent call last)",
      "Cell \u001b[1;32mIn[130], line 21\u001b[0m\n\u001b[0;32m     18\u001b[0m     category_encoded \u001b[38;5;241m=\u001b[39m label_encoder\u001b[38;5;241m.\u001b[39mtransform([input_features[\u001b[38;5;241m0\u001b[39m]])[\u001b[38;5;241m0\u001b[39m]\n\u001b[0;32m     19\u001b[0m \u001b[38;5;28;01mexcept\u001b[39;00m \u001b[38;5;167;01mValueError\u001b[39;00m:\n\u001b[0;32m     20\u001b[0m     \u001b[38;5;66;03m# Handle unknown categories here. For example, you can assign a default value or raise an error.\u001b[39;00m\n\u001b[1;32m---> 21\u001b[0m     category_encoded \u001b[38;5;241m=\u001b[39m default_value  \u001b[38;5;66;03m# Replace with your chosen method of handling unknown categories\u001b[39;00m\n\u001b[0;32m     23\u001b[0m \u001b[38;5;66;03m# Replace the 'Category' in input_features with its numeric representation\u001b[39;00m\n\u001b[0;32m     24\u001b[0m input_features_encoded \u001b[38;5;241m=\u001b[39m [category_encoded] \u001b[38;5;241m+\u001b[39m \u001b[38;5;28mlist\u001b[39m(input_features[\u001b[38;5;241m1\u001b[39m:])\n",
      "\u001b[1;31mNameError\u001b[0m: name 'default_value' is not defined"
     ]
    }
   ],
   "source": [
    "import lightgbm as lgb\n",
    "import numpy as np\n",
    "from sklearn.preprocessing import StandardScaler, LabelEncoder\n",
    "import joblib\n",
    "\n",
    "# Load the trained LightGBM model\n",
    "clf = lgb.Booster(model_file='lightgbm_model.txt')\n",
    "\n",
    "# Input features: ('Category', 'Amount', 'gap', 'AnomalyScore', 'TransactionAmount', 'AccountBalance', 'Hour', 'SuspiciousFlag')\n",
    "input_features = ('Travel', 0.41, 0.68, 0.53, 0.68, 1, 1, 2)\n",
    "\n",
    "# Load the LabelEncoder and StandardScaler (you should have saved these objects during training)\n",
    "label_encoder = joblib.load('label_encoder.pkl')\n",
    "scaler = joblib.load('scaler.pkl')\n",
    "\n",
    "try:\n",
    "    # Apply the label encoder to the 'Category' feature\n",
    "    category_encoded = label_encoder.transform([input_features[0]])[0]\n",
    "except ValueError:\n",
    "    # Handle unknown categories here. For example, you can assign a default value or raise an error.\n",
    "    category_encoded = default_value  # Replace with your chosen method of handling unknown categories\n",
    "\n",
    "# Replace the 'Category' in input_features with its numeric representation\n",
    "input_features_encoded = [category_encoded] + list(input_features[1:])\n",
    "\n",
    "# Convert the entire feature vector to a numpy array\n",
    "input_features_array = np.array(input_features_encoded).reshape(1, -1)\n",
    "\n",
    "# Apply the scaler to the entire feature vector\n",
    "input_features_scaled = scaler.transform(input_features_array)\n",
    "\n",
    "# Make a prediction\n",
    "prediction = clf.predict(input_features_scaled)\n",
    "\n",
    "print(\"Prediction:\", prediction)\n"
   ]
  },
  {
   "cell_type": "code",
   "execution_count": 131,
   "metadata": {},
   "outputs": [
    {
     "data": {
      "text/plain": [
       "(array([[-8.92004585e-04, -7.60554473e-01,  1.15788528e+00, ...,\n",
       "         -1.64187813e-01,  3.78690230e-01, -5.73267516e-01],\n",
       "        [ 7.12711664e-01,  1.33854641e+00, -8.78340845e-01, ...,\n",
       "         -1.64187813e-01,  1.53720719e+00, -1.29451761e+00],\n",
       "        [ 7.12711664e-01,  6.70906076e-01,  1.44589153e+00, ...,\n",
       "         -1.64187813e-01,  5.23504850e-01,  2.45542973e-01],\n",
       "        ...,\n",
       "        [ 1.42631533e+00,  1.53406157e+00, -8.24547731e-01, ...,\n",
       "         -1.64187813e-01,  5.23504850e-01,  2.31605773e-01],\n",
       "        [ 1.42631533e+00,  7.93430132e-01, -2.97164044e-01, ...,\n",
       "         -1.64187813e-01, -1.21427059e+00, -2.38774720e-01],\n",
       "        [-1.42809934e+00,  1.17634445e+00,  4.47483840e-01, ...,\n",
       "         -1.64187813e-01, -3.45382868e-01, -2.87554920e-01]]),\n",
       " 29     0\n",
       " 535    0\n",
       " 695    0\n",
       " 557    0\n",
       " 836    0\n",
       "       ..\n",
       " 106    0\n",
       " 270    1\n",
       " 860    0\n",
       " 435    0\n",
       " 102    0\n",
       " Name: FraudIndicator, Length: 800, dtype: int64)"
      ]
     },
     "execution_count": 131,
     "metadata": {},
     "output_type": "execute_result"
    }
   ],
   "source": [
    "X_train_scaled, y_train"
   ]
  },
  {
   "cell_type": "code",
   "execution_count": 133,
   "metadata": {},
   "outputs": [
    {
     "ename": "ValueError",
     "evalue": "pandas dtypes must be int, float or bool.\nFields with bad pandas dtypes: Name: object, Address: object, LastLogin: object",
     "output_type": "error",
     "traceback": [
      "\u001b[1;31m---------------------------------------------------------------------------\u001b[0m",
      "\u001b[1;31mValueError\u001b[0m                                Traceback (most recent call last)",
      "Cell \u001b[1;32mIn[133], line 24\u001b[0m\n\u001b[0;32m     22\u001b[0m \u001b[38;5;66;03m# Train a LightGBM model\u001b[39;00m\n\u001b[0;32m     23\u001b[0m model \u001b[38;5;241m=\u001b[39m lgb\u001b[38;5;241m.\u001b[39mLGBMClassifier(scale_pos_weight\u001b[38;5;241m=\u001b[39m\u001b[38;5;241m50\u001b[39m, max_depth\u001b[38;5;241m=\u001b[39m\u001b[38;5;241m3\u001b[39m, n_estimators\u001b[38;5;241m=\u001b[39m\u001b[38;5;241m100\u001b[39m, learning_rate\u001b[38;5;241m=\u001b[39m\u001b[38;5;241m0.1\u001b[39m, random_state\u001b[38;5;241m=\u001b[39m\u001b[38;5;241m42\u001b[39m)\n\u001b[1;32m---> 24\u001b[0m model\u001b[38;5;241m.\u001b[39mfit(X_train, y_train)\n\u001b[0;32m     26\u001b[0m \u001b[38;5;66;03m# Make predictions\u001b[39;00m\n\u001b[0;32m     27\u001b[0m predictions \u001b[38;5;241m=\u001b[39m model\u001b[38;5;241m.\u001b[39mpredict(X_test)\n",
      "File \u001b[1;32mC:\\LibFolder\\Lib\\site-packages\\lightgbm\\sklearn.py:1142\u001b[0m, in \u001b[0;36mLGBMClassifier.fit\u001b[1;34m(self, X, y, sample_weight, init_score, eval_set, eval_names, eval_sample_weight, eval_class_weight, eval_init_score, eval_metric, feature_name, categorical_feature, callbacks, init_model)\u001b[0m\n\u001b[0;32m   1139\u001b[0m         \u001b[38;5;28;01melse\u001b[39;00m:\n\u001b[0;32m   1140\u001b[0m             valid_sets\u001b[38;5;241m.\u001b[39mappend((valid_x, \u001b[38;5;28mself\u001b[39m\u001b[38;5;241m.\u001b[39m_le\u001b[38;5;241m.\u001b[39mtransform(valid_y)))\n\u001b[1;32m-> 1142\u001b[0m \u001b[38;5;28msuper\u001b[39m()\u001b[38;5;241m.\u001b[39mfit(\n\u001b[0;32m   1143\u001b[0m     X,\n\u001b[0;32m   1144\u001b[0m     _y,\n\u001b[0;32m   1145\u001b[0m     sample_weight\u001b[38;5;241m=\u001b[39msample_weight,\n\u001b[0;32m   1146\u001b[0m     init_score\u001b[38;5;241m=\u001b[39minit_score,\n\u001b[0;32m   1147\u001b[0m     eval_set\u001b[38;5;241m=\u001b[39mvalid_sets,\n\u001b[0;32m   1148\u001b[0m     eval_names\u001b[38;5;241m=\u001b[39meval_names,\n\u001b[0;32m   1149\u001b[0m     eval_sample_weight\u001b[38;5;241m=\u001b[39meval_sample_weight,\n\u001b[0;32m   1150\u001b[0m     eval_class_weight\u001b[38;5;241m=\u001b[39meval_class_weight,\n\u001b[0;32m   1151\u001b[0m     eval_init_score\u001b[38;5;241m=\u001b[39meval_init_score,\n\u001b[0;32m   1152\u001b[0m     eval_metric\u001b[38;5;241m=\u001b[39meval_metric,\n\u001b[0;32m   1153\u001b[0m     feature_name\u001b[38;5;241m=\u001b[39mfeature_name,\n\u001b[0;32m   1154\u001b[0m     categorical_feature\u001b[38;5;241m=\u001b[39mcategorical_feature,\n\u001b[0;32m   1155\u001b[0m     callbacks\u001b[38;5;241m=\u001b[39mcallbacks,\n\u001b[0;32m   1156\u001b[0m     init_model\u001b[38;5;241m=\u001b[39minit_model\n\u001b[0;32m   1157\u001b[0m )\n\u001b[0;32m   1158\u001b[0m \u001b[38;5;28;01mreturn\u001b[39;00m \u001b[38;5;28mself\u001b[39m\n",
      "File \u001b[1;32mC:\\LibFolder\\Lib\\site-packages\\lightgbm\\sklearn.py:842\u001b[0m, in \u001b[0;36mLGBMModel.fit\u001b[1;34m(self, X, y, sample_weight, init_score, group, eval_set, eval_names, eval_sample_weight, eval_class_weight, eval_init_score, eval_group, eval_metric, feature_name, categorical_feature, callbacks, init_model)\u001b[0m\n\u001b[0;32m    839\u001b[0m evals_result: _EvalResultDict \u001b[38;5;241m=\u001b[39m {}\n\u001b[0;32m    840\u001b[0m callbacks\u001b[38;5;241m.\u001b[39mappend(record_evaluation(evals_result))\n\u001b[1;32m--> 842\u001b[0m \u001b[38;5;28mself\u001b[39m\u001b[38;5;241m.\u001b[39m_Booster \u001b[38;5;241m=\u001b[39m train(\n\u001b[0;32m    843\u001b[0m     params\u001b[38;5;241m=\u001b[39mparams,\n\u001b[0;32m    844\u001b[0m     train_set\u001b[38;5;241m=\u001b[39mtrain_set,\n\u001b[0;32m    845\u001b[0m     num_boost_round\u001b[38;5;241m=\u001b[39m\u001b[38;5;28mself\u001b[39m\u001b[38;5;241m.\u001b[39mn_estimators,\n\u001b[0;32m    846\u001b[0m     valid_sets\u001b[38;5;241m=\u001b[39mvalid_sets,\n\u001b[0;32m    847\u001b[0m     valid_names\u001b[38;5;241m=\u001b[39meval_names,\n\u001b[0;32m    848\u001b[0m     feval\u001b[38;5;241m=\u001b[39meval_metrics_callable,  \u001b[38;5;66;03m# type: ignore[arg-type]\u001b[39;00m\n\u001b[0;32m    849\u001b[0m     init_model\u001b[38;5;241m=\u001b[39minit_model,\n\u001b[0;32m    850\u001b[0m     feature_name\u001b[38;5;241m=\u001b[39mfeature_name,\n\u001b[0;32m    851\u001b[0m     callbacks\u001b[38;5;241m=\u001b[39mcallbacks\n\u001b[0;32m    852\u001b[0m )\n\u001b[0;32m    854\u001b[0m \u001b[38;5;28mself\u001b[39m\u001b[38;5;241m.\u001b[39m_evals_result \u001b[38;5;241m=\u001b[39m evals_result\n\u001b[0;32m    855\u001b[0m \u001b[38;5;28mself\u001b[39m\u001b[38;5;241m.\u001b[39m_best_iteration \u001b[38;5;241m=\u001b[39m \u001b[38;5;28mself\u001b[39m\u001b[38;5;241m.\u001b[39m_Booster\u001b[38;5;241m.\u001b[39mbest_iteration\n",
      "File \u001b[1;32mC:\\LibFolder\\Lib\\site-packages\\lightgbm\\engine.py:255\u001b[0m, in \u001b[0;36mtrain\u001b[1;34m(params, train_set, num_boost_round, valid_sets, valid_names, feval, init_model, feature_name, categorical_feature, keep_training_booster, callbacks)\u001b[0m\n\u001b[0;32m    253\u001b[0m \u001b[38;5;66;03m# construct booster\u001b[39;00m\n\u001b[0;32m    254\u001b[0m \u001b[38;5;28;01mtry\u001b[39;00m:\n\u001b[1;32m--> 255\u001b[0m     booster \u001b[38;5;241m=\u001b[39m Booster(params\u001b[38;5;241m=\u001b[39mparams, train_set\u001b[38;5;241m=\u001b[39mtrain_set)\n\u001b[0;32m    256\u001b[0m     \u001b[38;5;28;01mif\u001b[39;00m is_valid_contain_train:\n\u001b[0;32m    257\u001b[0m         booster\u001b[38;5;241m.\u001b[39mset_train_data_name(train_data_name)\n",
      "File \u001b[1;32mC:\\LibFolder\\Lib\\site-packages\\lightgbm\\basic.py:3200\u001b[0m, in \u001b[0;36mBooster.__init__\u001b[1;34m(self, params, train_set, model_file, model_str)\u001b[0m\n\u001b[0;32m   3193\u001b[0m     \u001b[38;5;28mself\u001b[39m\u001b[38;5;241m.\u001b[39mset_network(\n\u001b[0;32m   3194\u001b[0m         machines\u001b[38;5;241m=\u001b[39mmachines,\n\u001b[0;32m   3195\u001b[0m         local_listen_port\u001b[38;5;241m=\u001b[39mparams[\u001b[38;5;124m\"\u001b[39m\u001b[38;5;124mlocal_listen_port\u001b[39m\u001b[38;5;124m\"\u001b[39m],\n\u001b[0;32m   3196\u001b[0m         listen_time_out\u001b[38;5;241m=\u001b[39mparams\u001b[38;5;241m.\u001b[39mget(\u001b[38;5;124m\"\u001b[39m\u001b[38;5;124mtime_out\u001b[39m\u001b[38;5;124m\"\u001b[39m, \u001b[38;5;241m120\u001b[39m),\n\u001b[0;32m   3197\u001b[0m         num_machines\u001b[38;5;241m=\u001b[39mparams[\u001b[38;5;124m\"\u001b[39m\u001b[38;5;124mnum_machines\u001b[39m\u001b[38;5;124m\"\u001b[39m]\n\u001b[0;32m   3198\u001b[0m     )\n\u001b[0;32m   3199\u001b[0m \u001b[38;5;66;03m# construct booster object\u001b[39;00m\n\u001b[1;32m-> 3200\u001b[0m train_set\u001b[38;5;241m.\u001b[39mconstruct()\n\u001b[0;32m   3201\u001b[0m \u001b[38;5;66;03m# copy the parameters from train_set\u001b[39;00m\n\u001b[0;32m   3202\u001b[0m params\u001b[38;5;241m.\u001b[39mupdate(train_set\u001b[38;5;241m.\u001b[39mget_params())\n",
      "File \u001b[1;32mC:\\LibFolder\\Lib\\site-packages\\lightgbm\\basic.py:2276\u001b[0m, in \u001b[0;36mDataset.construct\u001b[1;34m(self)\u001b[0m\n\u001b[0;32m   2269\u001b[0m             \u001b[38;5;28mself\u001b[39m\u001b[38;5;241m.\u001b[39m_set_init_score_by_predictor(\n\u001b[0;32m   2270\u001b[0m                 predictor\u001b[38;5;241m=\u001b[39m\u001b[38;5;28mself\u001b[39m\u001b[38;5;241m.\u001b[39m_predictor,\n\u001b[0;32m   2271\u001b[0m                 data\u001b[38;5;241m=\u001b[39m\u001b[38;5;28mself\u001b[39m\u001b[38;5;241m.\u001b[39mdata,\n\u001b[0;32m   2272\u001b[0m                 used_indices\u001b[38;5;241m=\u001b[39mused_indices\n\u001b[0;32m   2273\u001b[0m             )\n\u001b[0;32m   2274\u001b[0m \u001b[38;5;28;01melse\u001b[39;00m:\n\u001b[0;32m   2275\u001b[0m     \u001b[38;5;66;03m# create train\u001b[39;00m\n\u001b[1;32m-> 2276\u001b[0m     \u001b[38;5;28mself\u001b[39m\u001b[38;5;241m.\u001b[39m_lazy_init(data\u001b[38;5;241m=\u001b[39m\u001b[38;5;28mself\u001b[39m\u001b[38;5;241m.\u001b[39mdata, label\u001b[38;5;241m=\u001b[39m\u001b[38;5;28mself\u001b[39m\u001b[38;5;241m.\u001b[39mlabel, reference\u001b[38;5;241m=\u001b[39m\u001b[38;5;28;01mNone\u001b[39;00m,\n\u001b[0;32m   2277\u001b[0m                     weight\u001b[38;5;241m=\u001b[39m\u001b[38;5;28mself\u001b[39m\u001b[38;5;241m.\u001b[39mweight, group\u001b[38;5;241m=\u001b[39m\u001b[38;5;28mself\u001b[39m\u001b[38;5;241m.\u001b[39mgroup,\n\u001b[0;32m   2278\u001b[0m                     init_score\u001b[38;5;241m=\u001b[39m\u001b[38;5;28mself\u001b[39m\u001b[38;5;241m.\u001b[39minit_score, predictor\u001b[38;5;241m=\u001b[39m\u001b[38;5;28mself\u001b[39m\u001b[38;5;241m.\u001b[39m_predictor,\n\u001b[0;32m   2279\u001b[0m                     feature_name\u001b[38;5;241m=\u001b[39m\u001b[38;5;28mself\u001b[39m\u001b[38;5;241m.\u001b[39mfeature_name, categorical_feature\u001b[38;5;241m=\u001b[39m\u001b[38;5;28mself\u001b[39m\u001b[38;5;241m.\u001b[39mcategorical_feature,\n\u001b[0;32m   2280\u001b[0m                     params\u001b[38;5;241m=\u001b[39m\u001b[38;5;28mself\u001b[39m\u001b[38;5;241m.\u001b[39mparams, position\u001b[38;5;241m=\u001b[39m\u001b[38;5;28mself\u001b[39m\u001b[38;5;241m.\u001b[39mposition)\n\u001b[0;32m   2281\u001b[0m \u001b[38;5;28;01mif\u001b[39;00m \u001b[38;5;28mself\u001b[39m\u001b[38;5;241m.\u001b[39mfree_raw_data:\n\u001b[0;32m   2282\u001b[0m     \u001b[38;5;28mself\u001b[39m\u001b[38;5;241m.\u001b[39mdata \u001b[38;5;241m=\u001b[39m \u001b[38;5;28;01mNone\u001b[39;00m\n",
      "File \u001b[1;32mC:\\LibFolder\\Lib\\site-packages\\lightgbm\\basic.py:1861\u001b[0m, in \u001b[0;36mDataset._lazy_init\u001b[1;34m(self, data, label, reference, weight, group, init_score, predictor, feature_name, categorical_feature, params, position)\u001b[0m\n\u001b[0;32m   1859\u001b[0m     categorical_feature \u001b[38;5;241m=\u001b[39m reference\u001b[38;5;241m.\u001b[39mcategorical_feature\n\u001b[0;32m   1860\u001b[0m \u001b[38;5;28;01mif\u001b[39;00m \u001b[38;5;28misinstance\u001b[39m(data, pd_DataFrame):\n\u001b[1;32m-> 1861\u001b[0m     data, feature_name, categorical_feature, \u001b[38;5;28mself\u001b[39m\u001b[38;5;241m.\u001b[39mpandas_categorical \u001b[38;5;241m=\u001b[39m _data_from_pandas(\n\u001b[0;32m   1862\u001b[0m         data\u001b[38;5;241m=\u001b[39mdata,\n\u001b[0;32m   1863\u001b[0m         feature_name\u001b[38;5;241m=\u001b[39mfeature_name,\n\u001b[0;32m   1864\u001b[0m         categorical_feature\u001b[38;5;241m=\u001b[39mcategorical_feature,\n\u001b[0;32m   1865\u001b[0m         pandas_categorical\u001b[38;5;241m=\u001b[39m\u001b[38;5;28mself\u001b[39m\u001b[38;5;241m.\u001b[39mpandas_categorical\n\u001b[0;32m   1866\u001b[0m     )\n\u001b[0;32m   1868\u001b[0m \u001b[38;5;66;03m# process for args\u001b[39;00m\n\u001b[0;32m   1869\u001b[0m params \u001b[38;5;241m=\u001b[39m {} \u001b[38;5;28;01mif\u001b[39;00m params \u001b[38;5;129;01mis\u001b[39;00m \u001b[38;5;28;01mNone\u001b[39;00m \u001b[38;5;28;01melse\u001b[39;00m params\n",
      "File \u001b[1;32mC:\\LibFolder\\Lib\\site-packages\\lightgbm\\basic.py:703\u001b[0m, in \u001b[0;36m_data_from_pandas\u001b[1;34m(data, feature_name, categorical_feature, pandas_categorical)\u001b[0m\n\u001b[0;32m    700\u001b[0m     categorical_feature \u001b[38;5;241m=\u001b[39m \u001b[38;5;28mlist\u001b[39m(categorical_feature)  \u001b[38;5;66;03m# type: ignore[assignment]\u001b[39;00m\n\u001b[0;32m    702\u001b[0m \u001b[38;5;66;03m# get numpy representation of the data\u001b[39;00m\n\u001b[1;32m--> 703\u001b[0m _check_for_bad_pandas_dtypes(data\u001b[38;5;241m.\u001b[39mdtypes)\n\u001b[0;32m    704\u001b[0m df_dtypes \u001b[38;5;241m=\u001b[39m [dtype\u001b[38;5;241m.\u001b[39mtype \u001b[38;5;28;01mfor\u001b[39;00m dtype \u001b[38;5;129;01min\u001b[39;00m data\u001b[38;5;241m.\u001b[39mdtypes]\n\u001b[0;32m    705\u001b[0m df_dtypes\u001b[38;5;241m.\u001b[39mappend(np\u001b[38;5;241m.\u001b[39mfloat32)  \u001b[38;5;66;03m# so that the target dtype considers floats\u001b[39;00m\n",
      "File \u001b[1;32mC:\\LibFolder\\Lib\\site-packages\\lightgbm\\basic.py:666\u001b[0m, in \u001b[0;36m_check_for_bad_pandas_dtypes\u001b[1;34m(pandas_dtypes_series)\u001b[0m\n\u001b[0;32m    660\u001b[0m bad_pandas_dtypes \u001b[38;5;241m=\u001b[39m [\n\u001b[0;32m    661\u001b[0m     \u001b[38;5;124mf\u001b[39m\u001b[38;5;124m'\u001b[39m\u001b[38;5;132;01m{\u001b[39;00mcolumn_name\u001b[38;5;132;01m}\u001b[39;00m\u001b[38;5;124m: \u001b[39m\u001b[38;5;132;01m{\u001b[39;00mpandas_dtype\u001b[38;5;132;01m}\u001b[39;00m\u001b[38;5;124m'\u001b[39m\n\u001b[0;32m    662\u001b[0m     \u001b[38;5;28;01mfor\u001b[39;00m column_name, pandas_dtype \u001b[38;5;129;01min\u001b[39;00m pandas_dtypes_series\u001b[38;5;241m.\u001b[39mitems()\n\u001b[0;32m    663\u001b[0m     \u001b[38;5;28;01mif\u001b[39;00m \u001b[38;5;129;01mnot\u001b[39;00m _is_allowed_numpy_dtype(pandas_dtype\u001b[38;5;241m.\u001b[39mtype)\n\u001b[0;32m    664\u001b[0m ]\n\u001b[0;32m    665\u001b[0m \u001b[38;5;28;01mif\u001b[39;00m bad_pandas_dtypes:\n\u001b[1;32m--> 666\u001b[0m     \u001b[38;5;28;01mraise\u001b[39;00m \u001b[38;5;167;01mValueError\u001b[39;00m(\u001b[38;5;124m'\u001b[39m\u001b[38;5;124mpandas dtypes must be int, float or bool.\u001b[39m\u001b[38;5;130;01m\\n\u001b[39;00m\u001b[38;5;124m'\u001b[39m\n\u001b[0;32m    667\u001b[0m                      \u001b[38;5;124mf\u001b[39m\u001b[38;5;124m'\u001b[39m\u001b[38;5;124mFields with bad pandas dtypes: \u001b[39m\u001b[38;5;132;01m{\u001b[39;00m\u001b[38;5;124m\"\u001b[39m\u001b[38;5;124m, \u001b[39m\u001b[38;5;124m\"\u001b[39m\u001b[38;5;241m.\u001b[39mjoin(bad_pandas_dtypes)\u001b[38;5;132;01m}\u001b[39;00m\u001b[38;5;124m'\u001b[39m)\n",
      "\u001b[1;31mValueError\u001b[0m: pandas dtypes must be int, float or bool.\nFields with bad pandas dtypes: Name: object, Address: object, LastLogin: object"
     ]
    }
   ],
   "source": [
    "import pandas as pd\n",
    "import lightgbm as lgb\n",
    "from sklearn.model_selection import train_test_split\n",
    "from sklearn.preprocessing import LabelEncoder, StandardScaler\n",
    "from sklearn.metrics import classification_report\n",
    "import joblib\n",
    "\n",
    "\n",
    "\n",
    "df = pd.DataFrame(data)\n",
    "\n",
    "# Preprocessing\n",
    "label_encoder = LabelEncoder()\n",
    "df['Category'] = label_encoder.fit_transform(df['Category'])\n",
    "\n",
    "scaler = StandardScaler()\n",
    "df[['TransactionAmount', 'AnomalyScore', 'Amount']] = scaler.fit_transform(df[['TransactionAmount', 'AnomalyScore', 'Amount']])\n",
    "\n",
    "# Train-Test Split\n",
    "X_train, X_test, y_train, y_test = train_test_split(df.drop(['TransactionID', 'FraudIndicator', 'Timestamp', 'MerchantID', 'CustomerID'], axis=1), df['FraudIndicator'], test_size=0.2, random_state=42)\n",
    "\n",
    "# Train a LightGBM model\n",
    "model = lgb.LGBMClassifier(scale_pos_weight=50, max_depth=3, n_estimators=100, learning_rate=0.1, random_state=42)\n",
    "model.fit(X_train, y_train)\n",
    "\n",
    "# Make predictions\n",
    "predictions = model.predict(X_test)\n",
    "print(classification_report(y_test, predictions))\n",
    "\n",
    "# Save the model and preprocessing objects\n",
    "joblib.dump(model, 'lgb_model.pkl')\n",
    "joblib.dump(label_encoder, 'label_encoder.pkl')\n",
    "joblib.dump(scaler, 'scaler.pkl')\n"
   ]
  },
  {
   "cell_type": "code",
   "execution_count": 146,
   "metadata": {},
   "outputs": [
    {
     "name": "stdout",
     "output_type": "stream",
     "text": [
      "Predicted Fraud Indicator: 1\n",
      "Prediction Probability for Class 1: 0.8666666666666667\n"
     ]
    }
   ],
   "source": [
    "input_features = ('Retail', 75.659944, 0.010471, 37.182412, 8935.007146, 0, 8, 346)\n",
    "prediction, prediction_prob = predict_fraud(input_features)\n",
    "print(\"Predicted Fraud Indicator:\", prediction)\n",
    "print(\"Prediction Probability for Class 1:\", prediction_prob)"
   ]
  },
  {
   "cell_type": "code",
   "execution_count": 143,
   "metadata": {},
   "outputs": [
    {
     "name": "stdout",
     "output_type": "stream",
     "text": [
      "     FraudIndicator Category  TransactionAmount  AnomalyScore  \\\n",
      "18                1   Retail          75.659944      0.010471   \n",
      "22                1   Travel          78.346754      0.830407   \n",
      "35                1     Food          79.679529      0.252012   \n",
      "86                1    Other          11.939593      0.006120   \n",
      "130               1   Online          53.916742      0.161773   \n",
      "\n",
      "               Timestamp     Amount  AccountBalance  LastLogin  \\\n",
      "18   2022-01-01 08:00:00  37.182412     8935.007146 2022-12-13   \n",
      "22   2022-01-16 03:00:00  61.136532     4344.549864 2023-02-28   \n",
      "35   2022-01-01 18:00:00  13.615519     8326.149989 2023-10-13   \n",
      "86   2022-01-03 00:00:00  30.793728     6552.420255 2024-01-22   \n",
      "130  2022-01-03 23:00:00  57.316159     7665.932450 2022-10-13   \n",
      "\n",
      "     SuspiciousFlag          Timestamp1  Hour  gap  \n",
      "18                0 2022-01-01 08:00:00     8  346  \n",
      "22                0 2022-01-16 03:00:00     3  408  \n",
      "35                0 2022-01-01 18:00:00    18  650  \n",
      "86                0 2022-01-03 00:00:00     0  749  \n",
      "130               0 2022-01-03 23:00:00    23  283  \n"
     ]
    }
   ],
   "source": [
    "fraud_cases = data1.query('FraudIndicator == 1').head(5)\n",
    "print(fraud_cases)\n"
   ]
  },
  {
   "cell_type": "code",
   "execution_count": 147,
   "metadata": {},
   "outputs": [
    {
     "name": "stdout",
     "output_type": "stream",
     "text": [
      "Predicted Fraud Indicator: 1\n"
     ]
    }
   ],
   "source": [
    "def predict_fraud(input_features):\n",
    "    # Load the trained Random Forest model\n",
    "    model = joblib.load('random_forest_model.joblib')\n",
    "\n",
    "    # Load the label encoder\n",
    "    label_encoder = joblib.load('label_encoder.joblib')\n",
    "\n",
    "    # Convert the input features to a DataFrame (adjust as necessary)\n",
    "    input_data = pd.DataFrame([input_features], columns=['Category', 'TransactionAmount', 'AnomalyScore', 'Amount', 'AccountBalance', 'SuspiciousFlag', 'Hour', 'gap'])\n",
    "    \n",
    "    # Transform the categorical data\n",
    "    input_data['Category'] = label_encoder.transform(input_data['Category'])\n",
    "\n",
    "    # Make a prediction\n",
    "    prediction = model.predict(input_data)\n",
    "    \n",
    "    return prediction[0]\n",
    "\n",
    "input_features = ('Retail', 75.659944, 0.010471, 37.182412, 8935.007146, 0, 8, 346)\n",
    "\n",
    "prediction = predict_fraud(input_features)\n",
    "print(\"Predicted Fraud Indicator:\", prediction)\n"
   ]
  },
  {
   "cell_type": "code",
   "execution_count": 149,
   "metadata": {},
   "outputs": [],
   "source": [
    "import pickle\n",
    "\n",
    "# Assuming `model` is your trained Random Forest model\n",
    "with open('random_forest_model.pkl', 'wb') as f:\n",
    "    pickle.dump(best_rf_model, f)\n"
   ]
  },
  {
   "cell_type": "code",
   "execution_count": 150,
   "metadata": {},
   "outputs": [],
   "source": [
    "import pickle\n",
    "\n",
    "with open('random_forest_model.pkl', 'rb') as f:\n",
    "    loaded_model = pickle.load(f)\n"
   ]
  },
  {
   "cell_type": "code",
   "execution_count": 153,
   "metadata": {},
   "outputs": [
    {
     "name": "stdout",
     "output_type": "stream",
     "text": [
      "Predicted Fraud Indicator: 1\n"
     ]
    }
   ],
   "source": [
    "import pandas as pd\n",
    "import pickle\n",
    "\n",
    "def predict_fraud(input_features):\n",
    "    # Load the trained Random Forest model\n",
    "    with open('random_forest_model.pkl', 'rb') as f:\n",
    "        model = pickle.load(f)\n",
    "\n",
    "    # Load the label encoder\n",
    "    with open('label_encoder.pkl', 'rb') as f:\n",
    "        label_encoder = pickle.load(f)\n",
    "\n",
    "    # Convert the input features to a DataFrame (adjust as necessary)\n",
    "    input_data = pd.DataFrame([input_features], columns=['Category', 'TransactionAmount', 'AnomalyScore', 'Amount', 'AccountBalance', 'SuspiciousFlag', 'Hour', 'gap'])\n",
    "    \n",
    "    # Transform the categorical data\n",
    "    input_data['Category'] = label_encoder.transform(input_data['Category'])\n",
    "\n",
    "    # Make a prediction\n",
    "    prediction = model.predict(input_data)\n",
    "    \n",
    "    return prediction[0]\n",
    "\n",
    "input_features = ('Retail', 75.659944, 0.010471, 37.182412, 8935.007146, 0, 8, 346)\n",
    "\n",
    "prediction = predict_fraud(input_features)\n",
    "print(\"Predicted Fraud Indicator:\", prediction)\n"
   ]
  },
  {
   "cell_type": "code",
   "execution_count": null,
   "metadata": {},
   "outputs": [],
   "source": []
  }
 ],
 "metadata": {
  "kernelspec": {
   "display_name": "Python 3 (ipykernel)",
   "language": "python",
   "name": "python3"
  },
  "language_info": {
   "codemirror_mode": {
    "name": "ipython",
    "version": 3
   },
   "file_extension": ".py",
   "mimetype": "text/x-python",
   "name": "python",
   "nbconvert_exporter": "python",
   "pygments_lexer": "ipython3",
   "version": "3.11.3"
  }
 },
 "nbformat": 4,
 "nbformat_minor": 4
}
